{
 "cells": [
  {
   "cell_type": "markdown",
   "metadata": {},
   "source": [
    "# 4 Dataset Classification"
   ]
  },
  {
   "cell_type": "code",
   "execution_count": 1,
   "metadata": {
    "scrolled": true
   },
   "outputs": [
    {
     "name": "stderr",
     "output_type": "stream",
     "text": [
      "/Users/pierohmd/opt/anaconda3/lib/python3.8/site-packages/sklearn/utils/deprecation.py:143: FutureWarning: The sklearn.utils.testing module is  deprecated in version 0.22 and will be removed in version 0.24. The corresponding classes / functions should instead be imported from sklearn.utils. Anything that cannot be imported from sklearn.utils is now part of the private API.\n",
      "  warnings.warn(message, FutureWarning)\n"
     ]
    }
   ],
   "source": [
    "#Importing the libraries to watch the 'fits' image and get the data array\n",
    "import astropy\n",
    "#import plotly.graph_objects as go\n",
    "from astropy.io import fits\n",
    "#Importing a library that is useful to read the original file\n",
    "import pandas as pd\n",
    "import pylab as plb\n",
    "import matplotlib.pyplot as plt\n",
    "from scipy.optimize import curve_fit\n",
    "from scipy import asarray as ar,exp\n",
    "#Importing a visual library with some illustrative set up\n",
    "import matplotlib.pyplot as plt\n",
    "import matplotlib.colors as mcolors \n",
    "from matplotlib import cm\n",
    "import numpy as np\n",
    "from sklearn.utils.testing import ignore_warnings\n",
    "from sklearn.exceptions import ConvergenceWarning\n",
    "from sklearn.decomposition import PCA\n",
    "import math \n",
    "import seaborn as sns\n",
    "from sklearn.linear_model import LogisticRegression\n",
    "plt.style.use('fivethirtyeight')\n",
    "plt.rcParams['font.family'] = 'sans-serif' \n",
    "plt.rcParams['font.serif'] = 'Ubuntu' \n",
    "plt.rcParams['font.monospace'] = 'Ubuntu Mono' \n",
    "plt.rcParams['font.size'] = 14 \n",
    "plt.rcParams['axes.labelsize'] = 12 \n",
    "plt.rcParams['axes.labelweight'] = 'bold' \n",
    "plt.rcParams['axes.titlesize'] = 12 \n",
    "plt.rcParams['xtick.labelsize'] = 12 \n",
    "plt.rcParams['ytick.labelsize'] = 12 \n",
    "#plt.rcParams['legend.fontsize'] = 12 \n",
    "plt.rcParams['figure.titlesize'] = 12 \n",
    "plt.rcParams['image.cmap'] = 'jet' \n",
    "plt.rcParams['image.interpolation'] = 'none' \n",
    "plt.rcParams['figure.figsize'] = (16, 8) \n",
    "plt.rcParams['lines.linewidth'] = 2 \n",
    "plt.rcParams['lines.markersize'] = 8\n",
    "plt.rcParams[\"axes.grid\"] = False\n",
    "\n"
   ]
  },
  {
   "cell_type": "code",
   "execution_count": 2,
   "metadata": {
    "scrolled": true
   },
   "outputs": [],
   "source": [
    "#Importing the dataset\n",
    "data=pd.read_csv('star.txt',sep='\\s+')"
   ]
  },
  {
   "cell_type": "code",
   "execution_count": 3,
   "metadata": {
    "scrolled": true
   },
   "outputs": [
    {
     "data": {
      "text/html": [
       "<div>\n",
       "<style scoped>\n",
       "    .dataframe tbody tr th:only-of-type {\n",
       "        vertical-align: middle;\n",
       "    }\n",
       "\n",
       "    .dataframe tbody tr th {\n",
       "        vertical-align: top;\n",
       "    }\n",
       "\n",
       "    .dataframe thead th {\n",
       "        text-align: right;\n",
       "    }\n",
       "</style>\n",
       "<table border=\"1\" class=\"dataframe\">\n",
       "  <thead>\n",
       "    <tr style=\"text-align: right;\">\n",
       "      <th></th>\n",
       "      <th>#ID</th>\n",
       "      <th>X</th>\n",
       "      <th>Y</th>\n",
       "      <th>F606W</th>\n",
       "      <th>error</th>\n",
       "      <th>F814W</th>\n",
       "      <th>error.1</th>\n",
       "      <th>Chi</th>\n",
       "      <th>Sharp</th>\n",
       "    </tr>\n",
       "  </thead>\n",
       "  <tbody>\n",
       "    <tr>\n",
       "      <th>0</th>\n",
       "      <td>8</td>\n",
       "      <td>4462.947</td>\n",
       "      <td>140.859</td>\n",
       "      <td>28.197</td>\n",
       "      <td>0.1036</td>\n",
       "      <td>27.127</td>\n",
       "      <td>0.1068</td>\n",
       "      <td>6.106</td>\n",
       "      <td>0.7310</td>\n",
       "    </tr>\n",
       "    <tr>\n",
       "      <th>1</th>\n",
       "      <td>120</td>\n",
       "      <td>5002.486</td>\n",
       "      <td>186.138</td>\n",
       "      <td>20.843</td>\n",
       "      <td>0.0552</td>\n",
       "      <td>19.815</td>\n",
       "      <td>0.0661</td>\n",
       "      <td>10.690</td>\n",
       "      <td>0.4000</td>\n",
       "    </tr>\n",
       "    <tr>\n",
       "      <th>2</th>\n",
       "      <td>165</td>\n",
       "      <td>5003.574</td>\n",
       "      <td>195.421</td>\n",
       "      <td>27.014</td>\n",
       "      <td>0.2194</td>\n",
       "      <td>26.068</td>\n",
       "      <td>0.1349</td>\n",
       "      <td>10.651</td>\n",
       "      <td>0.1940</td>\n",
       "    </tr>\n",
       "    <tr>\n",
       "      <th>3</th>\n",
       "      <td>226</td>\n",
       "      <td>4448.493</td>\n",
       "      <td>207.417</td>\n",
       "      <td>30.193</td>\n",
       "      <td>0.3641</td>\n",
       "      <td>28.270</td>\n",
       "      <td>0.1636</td>\n",
       "      <td>4.059</td>\n",
       "      <td>-1.9585</td>\n",
       "    </tr>\n",
       "    <tr>\n",
       "      <th>4</th>\n",
       "      <td>351</td>\n",
       "      <td>5040.717</td>\n",
       "      <td>224.366</td>\n",
       "      <td>28.935</td>\n",
       "      <td>0.1669</td>\n",
       "      <td>28.941</td>\n",
       "      <td>0.2464</td>\n",
       "      <td>4.274</td>\n",
       "      <td>-0.7720</td>\n",
       "    </tr>\n",
       "  </tbody>\n",
       "</table>\n",
       "</div>"
      ],
      "text/plain": [
       "   #ID         X        Y   F606W   error   F814W  error.1     Chi   Sharp\n",
       "0    8  4462.947  140.859  28.197  0.1036  27.127   0.1068   6.106  0.7310\n",
       "1  120  5002.486  186.138  20.843  0.0552  19.815   0.0661  10.690  0.4000\n",
       "2  165  5003.574  195.421  27.014  0.2194  26.068   0.1349  10.651  0.1940\n",
       "3  226  4448.493  207.417  30.193  0.3641  28.270   0.1636   4.059 -1.9585\n",
       "4  351  5040.717  224.366  28.935  0.1669  28.941   0.2464   4.274 -0.7720"
      ]
     },
     "execution_count": 3,
     "metadata": {},
     "output_type": "execute_result"
    }
   ],
   "source": [
    "data.head()"
   ]
  },
  {
   "cell_type": "code",
   "execution_count": 4,
   "metadata": {
    "scrolled": true
   },
   "outputs": [],
   "source": [
    "#Excluding Sharp and #ID\n",
    "notar=data.drop(columns=['Sharp','#ID'])"
   ]
  },
  {
   "cell_type": "markdown",
   "metadata": {},
   "source": [
    "# P.C.A. Excluding Space"
   ]
  },
  {
   "cell_type": "code",
   "execution_count": 5,
   "metadata": {
    "scrolled": true
   },
   "outputs": [],
   "source": [
    "#Excluding Space Features in order to perform the P.C.A.\n",
    "notar=data.drop(columns=['X','Y'])"
   ]
  },
  {
   "cell_type": "code",
   "execution_count": 6,
   "metadata": {
    "scrolled": true
   },
   "outputs": [
    {
     "data": {
      "text/html": [
       "<div>\n",
       "<style scoped>\n",
       "    .dataframe tbody tr th:only-of-type {\n",
       "        vertical-align: middle;\n",
       "    }\n",
       "\n",
       "    .dataframe tbody tr th {\n",
       "        vertical-align: top;\n",
       "    }\n",
       "\n",
       "    .dataframe thead th {\n",
       "        text-align: right;\n",
       "    }\n",
       "</style>\n",
       "<table border=\"1\" class=\"dataframe\">\n",
       "  <thead>\n",
       "    <tr style=\"text-align: right;\">\n",
       "      <th></th>\n",
       "      <th>#ID</th>\n",
       "      <th>F606W</th>\n",
       "      <th>error</th>\n",
       "      <th>F814W</th>\n",
       "      <th>error.1</th>\n",
       "      <th>Chi</th>\n",
       "      <th>Sharp</th>\n",
       "    </tr>\n",
       "  </thead>\n",
       "  <tbody>\n",
       "    <tr>\n",
       "      <th>0</th>\n",
       "      <td>8</td>\n",
       "      <td>28.197</td>\n",
       "      <td>0.1036</td>\n",
       "      <td>27.127</td>\n",
       "      <td>0.1068</td>\n",
       "      <td>6.106</td>\n",
       "      <td>0.7310</td>\n",
       "    </tr>\n",
       "    <tr>\n",
       "      <th>1</th>\n",
       "      <td>120</td>\n",
       "      <td>20.843</td>\n",
       "      <td>0.0552</td>\n",
       "      <td>19.815</td>\n",
       "      <td>0.0661</td>\n",
       "      <td>10.690</td>\n",
       "      <td>0.4000</td>\n",
       "    </tr>\n",
       "    <tr>\n",
       "      <th>2</th>\n",
       "      <td>165</td>\n",
       "      <td>27.014</td>\n",
       "      <td>0.2194</td>\n",
       "      <td>26.068</td>\n",
       "      <td>0.1349</td>\n",
       "      <td>10.651</td>\n",
       "      <td>0.1940</td>\n",
       "    </tr>\n",
       "    <tr>\n",
       "      <th>3</th>\n",
       "      <td>226</td>\n",
       "      <td>30.193</td>\n",
       "      <td>0.3641</td>\n",
       "      <td>28.270</td>\n",
       "      <td>0.1636</td>\n",
       "      <td>4.059</td>\n",
       "      <td>-1.9585</td>\n",
       "    </tr>\n",
       "    <tr>\n",
       "      <th>4</th>\n",
       "      <td>351</td>\n",
       "      <td>28.935</td>\n",
       "      <td>0.1669</td>\n",
       "      <td>28.941</td>\n",
       "      <td>0.2464</td>\n",
       "      <td>4.274</td>\n",
       "      <td>-0.7720</td>\n",
       "    </tr>\n",
       "  </tbody>\n",
       "</table>\n",
       "</div>"
      ],
      "text/plain": [
       "   #ID   F606W   error   F814W  error.1     Chi   Sharp\n",
       "0    8  28.197  0.1036  27.127   0.1068   6.106  0.7310\n",
       "1  120  20.843  0.0552  19.815   0.0661  10.690  0.4000\n",
       "2  165  27.014  0.2194  26.068   0.1349  10.651  0.1940\n",
       "3  226  30.193  0.3641  28.270   0.1636   4.059 -1.9585\n",
       "4  351  28.935  0.1669  28.941   0.2464   4.274 -0.7720"
      ]
     },
     "execution_count": 6,
     "metadata": {},
     "output_type": "execute_result"
    }
   ],
   "source": [
    "notar.head()"
   ]
  },
  {
   "cell_type": "code",
   "execution_count": 7,
   "metadata": {
    "scrolled": true
   },
   "outputs": [],
   "source": [
    "pca=PCA(n_components=3)\n",
    "pca=pca.fit(notar)\n",
    "pca_data=pd.DataFrame(pca.transform(notar))"
   ]
  },
  {
   "cell_type": "code",
   "execution_count": 8,
   "metadata": {
    "scrolled": true
   },
   "outputs": [],
   "source": [
    "pca_data=pca_data.rename(columns={0:'FirstComponent',1:'SecondComponent',2:'ThirdComponent'})"
   ]
  },
  {
   "cell_type": "code",
   "execution_count": 9,
   "metadata": {
    "scrolled": true
   },
   "outputs": [],
   "source": [
    "#Stacking together the spatial coordinates\n",
    "pca_data['X']=data.X\n",
    "pca_data['Y']=data.Y"
   ]
  },
  {
   "cell_type": "code",
   "execution_count": 10,
   "metadata": {
    "scrolled": true
   },
   "outputs": [],
   "source": [
    "#And the sharp\n",
    "pca_data['Sharp']=data.Sharp"
   ]
  },
  {
   "cell_type": "code",
   "execution_count": 11,
   "metadata": {
    "scrolled": true
   },
   "outputs": [
    {
     "data": {
      "text/html": [
       "<div>\n",
       "<style scoped>\n",
       "    .dataframe tbody tr th:only-of-type {\n",
       "        vertical-align: middle;\n",
       "    }\n",
       "\n",
       "    .dataframe tbody tr th {\n",
       "        vertical-align: top;\n",
       "    }\n",
       "\n",
       "    .dataframe thead th {\n",
       "        text-align: right;\n",
       "    }\n",
       "</style>\n",
       "<table border=\"1\" class=\"dataframe\">\n",
       "  <thead>\n",
       "    <tr style=\"text-align: right;\">\n",
       "      <th></th>\n",
       "      <th>FirstComponent</th>\n",
       "      <th>SecondComponent</th>\n",
       "      <th>ThirdComponent</th>\n",
       "      <th>X</th>\n",
       "      <th>Y</th>\n",
       "      <th>Sharp</th>\n",
       "    </tr>\n",
       "  </thead>\n",
       "  <tbody>\n",
       "    <tr>\n",
       "      <th>0</th>\n",
       "      <td>-705040.285186</td>\n",
       "      <td>-1.458598</td>\n",
       "      <td>3.388920</td>\n",
       "      <td>4462.947</td>\n",
       "      <td>140.859</td>\n",
       "      <td>0.7310</td>\n",
       "    </tr>\n",
       "    <tr>\n",
       "      <th>1</th>\n",
       "      <td>-704928.285165</td>\n",
       "      <td>9.153223</td>\n",
       "      <td>7.337162</td>\n",
       "      <td>5002.486</td>\n",
       "      <td>186.138</td>\n",
       "      <td>0.4000</td>\n",
       "    </tr>\n",
       "    <tr>\n",
       "      <th>2</th>\n",
       "      <td>-704883.285185</td>\n",
       "      <td>0.379070</td>\n",
       "      <td>7.828835</td>\n",
       "      <td>5003.574</td>\n",
       "      <td>195.421</td>\n",
       "      <td>0.1940</td>\n",
       "    </tr>\n",
       "    <tr>\n",
       "      <th>3</th>\n",
       "      <td>-704822.285190</td>\n",
       "      <td>-3.859786</td>\n",
       "      <td>1.456460</td>\n",
       "      <td>4448.493</td>\n",
       "      <td>207.417</td>\n",
       "      <td>-1.9585</td>\n",
       "    </tr>\n",
       "    <tr>\n",
       "      <th>4</th>\n",
       "      <td>-704697.285189</td>\n",
       "      <td>-3.431945</td>\n",
       "      <td>1.674933</td>\n",
       "      <td>5040.717</td>\n",
       "      <td>224.366</td>\n",
       "      <td>-0.7720</td>\n",
       "    </tr>\n",
       "  </tbody>\n",
       "</table>\n",
       "</div>"
      ],
      "text/plain": [
       "   FirstComponent  SecondComponent  ThirdComponent         X        Y   Sharp\n",
       "0  -705040.285186        -1.458598        3.388920  4462.947  140.859  0.7310\n",
       "1  -704928.285165         9.153223        7.337162  5002.486  186.138  0.4000\n",
       "2  -704883.285185         0.379070        7.828835  5003.574  195.421  0.1940\n",
       "3  -704822.285190        -3.859786        1.456460  4448.493  207.417 -1.9585\n",
       "4  -704697.285189        -3.431945        1.674933  5040.717  224.366 -0.7720"
      ]
     },
     "execution_count": 11,
     "metadata": {},
     "output_type": "execute_result"
    }
   ],
   "source": [
    "pca_data.head()"
   ]
  },
  {
   "cell_type": "code",
   "execution_count": 13,
   "metadata": {
    "scrolled": true
   },
   "outputs": [],
   "source": [
    "#pca_data=pca_data.drop(columns=['Sharp'])"
   ]
  },
  {
   "cell_type": "markdown",
   "metadata": {},
   "source": [
    "# Best method 3 Features"
   ]
  },
  {
   "cell_type": "code",
   "execution_count": 12,
   "metadata": {},
   "outputs": [],
   "source": [
    "#Two classification pre process, the Sharp is considered by its sign\n",
    "data['SharpSign']=np.sign(data.Sharp)"
   ]
  },
  {
   "cell_type": "code",
   "execution_count": 13,
   "metadata": {},
   "outputs": [
    {
     "name": "stderr",
     "output_type": "stream",
     "text": [
      "<ipython-input-13-6f0636eb8ad6>:2: SettingWithCopyWarning: \n",
      "A value is trying to be set on a copy of a slice from a DataFrame.\n",
      "Try using .loc[row_indexer,col_indexer] = value instead\n",
      "\n",
      "See the caveats in the documentation: https://pandas.pydata.org/pandas-docs/stable/user_guide/indexing.html#returning-a-view-versus-a-copy\n",
      "  data[data['SharpSign']==0]['SharpSign']=np.ones(len(data[data['SharpSign']==0]))\n"
     ]
    }
   ],
   "source": [
    "#The 0 values are considered as positive \n",
    "data[data['SharpSign']==0]['SharpSign']=np.ones(len(data[data['SharpSign']==0]))"
   ]
  },
  {
   "cell_type": "code",
   "execution_count": 14,
   "metadata": {
    "scrolled": true
   },
   "outputs": [
    {
     "name": "stderr",
     "output_type": "stream",
     "text": [
      "<ipython-input-14-ed6569bb3e8b>:3: SettingWithCopyWarning: \n",
      "A value is trying to be set on a copy of a slice from a DataFrame.\n",
      "Try using .loc[row_indexer,col_indexer] = value instead\n",
      "\n",
      "See the caveats in the documentation: https://pandas.pydata.org/pandas-docs/stable/user_guide/indexing.html#returning-a-view-versus-a-copy\n",
      "  opt_data['Target']=data.SharpSign\n"
     ]
    }
   ],
   "source": [
    "#Three features are considered, the most informative \n",
    "opt_data=pca_data[['FirstComponent','SecondComponent','ThirdComponent']]\n",
    "opt_data['Target']=data.SharpSign"
   ]
  },
  {
   "cell_type": "code",
   "execution_count": 15,
   "metadata": {
    "scrolled": true
   },
   "outputs": [],
   "source": [
    "#Target \n",
    "y=opt_data.Target"
   ]
  },
  {
   "cell_type": "code",
   "execution_count": 16,
   "metadata": {
    "scrolled": true
   },
   "outputs": [],
   "source": [
    "#dataset\n",
    "X=opt_data.drop(columns=['Target'])\n"
   ]
  },
  {
   "cell_type": "code",
   "execution_count": 17,
   "metadata": {
    "scrolled": true
   },
   "outputs": [],
   "source": [
    "#Importing SVM and train test split from sklearn model selection\n",
    "from sklearn.svm import SVC\n",
    "from sklearn.model_selection import train_test_split"
   ]
  },
  {
   "cell_type": "code",
   "execution_count": 18,
   "metadata": {
    "scrolled": true
   },
   "outputs": [],
   "source": [
    "#(Train+validation)/Test split with wide test set (90%)\n",
    "X_train, X_test, y_train, y_test = train_test_split(\n",
    "    X, y, test_size=0.9, random_state=42)"
   ]
  },
  {
   "cell_type": "code",
   "execution_count": 19,
   "metadata": {
    "scrolled": true
   },
   "outputs": [],
   "source": [
    "#Train/Validation split at half\n",
    "X_train, X_val, y_train, y_val = train_test_split(\n",
    "    X_train, y_train, test_size=0.5, random_state=42)"
   ]
  },
  {
   "cell_type": "code",
   "execution_count": 20,
   "metadata": {
    "scrolled": true
   },
   "outputs": [],
   "source": [
    "#List of kernels\n",
    "K_LIST=['linear', 'poly', 'rbf', 'sigmoid']"
   ]
  },
  {
   "cell_type": "code",
   "execution_count": null,
   "metadata": {
    "scrolled": true
   },
   "outputs": [
    {
     "name": "stdout",
     "output_type": "stream",
     "text": [
      "Split Done\n"
     ]
    }
   ],
   "source": [
    "#Validation with CV_number=5 has been performed to choose the best kernel\n",
    "BEST_KERNEL=[]\n",
    "k=0\n",
    "for i in range(5):\n",
    "    FIN_SCORE=[]\n",
    "    X_train, X_test, y_train, y_test = train_test_split(\n",
    "        X, y, test_size=0.9, random_state=42)\n",
    "    X_train, X_val, y_train, y_val = train_test_split(\n",
    "        X_train, y_train, test_size=0.5, random_state=42)\n",
    "    print('Split Done')\n",
    "    for ker in K_LIST:\n",
    "        clf=SVC(kernel=ker)\n",
    "        clf.fit(X_train,y_train)\n",
    "        fin_score=clf.score(X_val,y_val)\n",
    "        FIN_SCORE.append(fin_score)\n",
    "        k=k+1\n",
    "        print(ker + ' Kernel has been explored')\n",
    "    FIN_SCORE=np.array(FIN_SCORE)\n",
    "    \n",
    "    BEST_KERNEL.append(K_LIST[FIN_SCORE.argmax()])\n",
    "    print('Cross validation ' + str(i) + ' out of 4 \\n')"
   ]
  },
  {
   "cell_type": "code",
   "execution_count": 25,
   "metadata": {},
   "outputs": [
    {
     "data": {
      "text/plain": [
       "Text(0.5, 0, 'Chosen Kernel')"
      ]
     },
     "execution_count": 25,
     "metadata": {},
     "output_type": "execute_result"
    },
    {
     "data": {
      "image/png": "[encoded data removed]",
      "text/plain": [
       "<Figure size 1152x576 with 1 Axes>"
      ]
     },
     "metadata": {},
     "output_type": "display_data"
    }
   ],
   "source": [
    "sns.countplot(np.array(BEST_KERNEL))\n",
    "plt.xlabel('Chosen Kernel',fontsize=20)"
   ]
  },
  {
   "cell_type": "code",
   "execution_count": 39,
   "metadata": {
    "collapsed": true,
    "scrolled": true
   },
   "outputs": [],
   "source": [
    "#Best kernel is chosen 5 times out of 5\n",
    "best_kernel='rbf'"
   ]
  },
  {
   "cell_type": "code",
   "execution_count": 97,
   "metadata": {
    "scrolled": true
   },
   "outputs": [
    {
     "name": "stdout",
     "output_type": "stream",
     "text": [
      "20% of the C values has been explored\n",
      "40% of the C values has been explored\n",
      "60% of the C values has been explored\n",
      "80% of the C values has been explored\n",
      "100% of the C values has been explored\n",
      "Cross validation 0 out of 4 \n",
      "\n",
      "Cross validation 1 out of 4 \n",
      "\n",
      "Cross validation 2 out of 4 \n",
      "\n",
      "Cross validation 3 out of 4 \n",
      "\n",
      "Cross validation 4 out of 4 \n",
      "\n"
     ]
    }
   ],
   "source": [
    "#Cross validation on C values \n",
    "c_list=np.arange(0.5,50.5,0.5)\n",
    "k=0\n",
    "PERC=['20%','40%','60%','80%','100%']\n",
    "K=[20,40,60,80,100]\n",
    "BEST_C=[]\n",
    "for i in range(5):\n",
    "    FIN_SCORE=[]\n",
    "    X_train, X_test, y_train, y_test = train_test_split(\n",
    "        X, y, test_size=0.9, random_state=42)\n",
    "    X_train, X_val, y_train, y_val = train_test_split(\n",
    "        X_train, y_train, test_size=0.5, random_state=42)\n",
    "    for c in c_list:\n",
    "        k=k+1\n",
    "        clf=SVC(C=c,kernel=best_kernel)\n",
    "        clf.fit(X_train,y_train)\n",
    "        fin_score=clf.score(X_val,y_val)\n",
    "        FIN_SCORE.append(fin_score)\n",
    "        #k=k+1\n",
    "        if k in K:\n",
    "            ind=K.index(k)\n",
    "            print (PERC[ind] + ' of the C values has been explored')\n",
    "    FIN_SCORE=np.array(FIN_SCORE)\n",
    "    BEST_C.append(c_list[FIN_SCORE.argmax()])\n",
    "    print('Cross validation ' + str(i) + ' out of 4 \\n')"
   ]
  },
  {
   "cell_type": "code",
   "execution_count": 100,
   "metadata": {
    "scrolled": true
   },
   "outputs": [
    {
     "data": {
      "text/plain": [
       "Text(0, 0.5, 'Count')"
      ]
     },
     "execution_count": 100,
     "metadata": {},
     "output_type": "execute_result"
    },
    {
     "data": {
      "image/png": "[encoded data removed]",
      "text/plain": [
       "<Figure size 1152x576 with 1 Axes>"
      ]
     },
     "metadata": {},
     "output_type": "display_data"
    }
   ],
   "source": [
    "sns.countplot(BEST_C)\n",
    "plt.xlabel('Chosen C')\n",
    "plt.ylabel('Count')"
   ]
  },
  {
   "cell_type": "code",
   "execution_count": 101,
   "metadata": {
    "collapsed": true,
    "scrolled": true
   },
   "outputs": [],
   "source": [
    "FIN_SCORE=np.array(FIN_SCORE)"
   ]
  },
  {
   "cell_type": "code",
   "execution_count": 102,
   "metadata": {
    "collapsed": true,
    "scrolled": true
   },
   "outputs": [],
   "source": [
    "#39 is chosen 5 times out of 5\n",
    "best_c=c_list[FIN_SCORE.argmax()]"
   ]
  },
  {
   "cell_type": "code",
   "execution_count": 107,
   "metadata": {
    "collapsed": true,
    "scrolled": true
   },
   "outputs": [],
   "source": [
    "#Train test split 70/30\n",
    "X_train, X_test, y_train, y_test = train_test_split(\n",
    "    X, y, test_size=0.7, random_state=42)"
   ]
  },
  {
   "cell_type": "code",
   "execution_count": 108,
   "metadata": {
    "collapsed": true,
    "scrolled": true
   },
   "outputs": [],
   "source": [
    "#Prediction with best parameters\n",
    "clf=SVC(kernel=best_kernel,C=best_c)\n",
    "clf.fit(X_train,y_train)\n",
    "fin_score=clf.score(X_test,y_test)"
   ]
  },
  {
   "cell_type": "code",
   "execution_count": 119,
   "metadata": {
    "collapsed": true,
    "scrolled": true
   },
   "outputs": [],
   "source": [
    "prediction=clf.predict(X_test.drop(columns=['Target']))"
   ]
  },
  {
   "cell_type": "code",
   "execution_count": 113,
   "metadata": {
    "scrolled": true
   },
   "outputs": [
    {
     "name": "stdout",
     "output_type": "stream",
     "text": [
      "The final score with 3 feature is 71.66999666999668% \n"
     ]
    }
   ],
   "source": [
    "print('The final score with 3 feature is ' + str(fin_score*100) +'% ')"
   ]
  },
  {
   "cell_type": "code",
   "execution_count": 121,
   "metadata": {
    "collapsed": true,
    "scrolled": true
   },
   "outputs": [],
   "source": [
    "#Comparing prediction and target \n",
    "test_data=X_test.copy()\n",
    "test_data['Target']=y_test\n",
    "test_data['Prediction']=prediction"
   ]
  },
  {
   "cell_type": "code",
   "execution_count": 169,
   "metadata": {
    "collapsed": true,
    "scrolled": true
   },
   "outputs": [
    {
     "data": {
      "image/png": "[encoded data removed]",
      "text/plain": [
       "<Figure size 1152x576 with 2 Axes>"
      ]
     },
     "metadata": {},
     "output_type": "display_data"
    }
   ],
   "source": [
    "#Confusion matrix\n",
    "import itertools\n",
    "from string import ascii_uppercase\n",
    "from sklearn.metrics import confusion_matrix\n",
    "\n",
    "y_test=test_data.Target\n",
    "predic = prediction\n",
    "\n",
    "columns = ['Negative','Non Negative']\n",
    "\n",
    "confm = confusion_matrix(y_test, predic)\n",
    "df_cm = pd.DataFrame(confm.astype(float), index=columns, columns=columns)\n",
    "\n",
    "ax = sns.heatmap(df_cm, cmap='plasma',annot=True,fmt='g')"
   ]
  },
  {
   "cell_type": "code",
   "execution_count": 170,
   "metadata": {
    "collapsed": true,
    "scrolled": true
   },
   "outputs": [],
   "source": [
    "#Defining precision and recall out of the confusion matrix\n",
    "def precision(confusion):\n",
    "    TP=confusion[0][0]\n",
    "    TN=confusion[1][1]\n",
    "    FP=confusion[0][1]\n",
    "    FN=confusion[1][0]\n",
    "    pres_a=TP/(TP+FN)\n",
    "    pres_b=TN/(TN+FP)\n",
    "    return [pres_a,pres_b]"
   ]
  },
  {
   "cell_type": "code",
   "execution_count": 172,
   "metadata": {
    "collapsed": true,
    "scrolled": true
   },
   "outputs": [],
   "source": [
    "def recall(confusion):\n",
    "    TP=confusion[0][0]\n",
    "    TN=confusion[1][1]\n",
    "    FP=confusion[0][1]\n",
    "    FN=confusion[1][0]\n",
    "    rec_a=TP/(TP+FP)\n",
    "    rec_b=TN/(TN+FN)\n",
    "    return [rec_a,rec_b]"
   ]
  },
  {
   "cell_type": "code",
   "execution_count": 176,
   "metadata": {
    "collapsed": true,
    "scrolled": true
   },
   "outputs": [],
   "source": [
    "#Display the statistics\n",
    "def statistics(confusion):\n",
    "    stat=pd.DataFrame({'Negative':[precision(confusion)[0],recall(confusion)[0]],'Non Negative':[precision(confusion)[1],recall(confusion)[1]]})\n",
    "    stat.index=['Precision','Recall']\n",
    "    return stat"
   ]
  },
  {
   "cell_type": "code",
   "execution_count": 177,
   "metadata": {
    "scrolled": true
   },
   "outputs": [
    {
     "data": {
      "text/html": [
       "<div>\n",
       "<style scoped>\n",
       "    .dataframe tbody tr th:only-of-type {\n",
       "        vertical-align: middle;\n",
       "    }\n",
       "\n",
       "    .dataframe tbody tr th {\n",
       "        vertical-align: top;\n",
       "    }\n",
       "\n",
       "    .dataframe thead th {\n",
       "        text-align: right;\n",
       "    }\n",
       "</style>\n",
       "<table border=\"1\" class=\"dataframe\">\n",
       "  <thead>\n",
       "    <tr style=\"text-align: right;\">\n",
       "      <th></th>\n",
       "      <th>Negative</th>\n",
       "      <th>Non Negative</th>\n",
       "    </tr>\n",
       "  </thead>\n",
       "  <tbody>\n",
       "    <tr>\n",
       "      <th>Precision</th>\n",
       "      <td>0.769380</td>\n",
       "      <td>0.703551</td>\n",
       "    </tr>\n",
       "    <tr>\n",
       "      <th>Recall</th>\n",
       "      <td>0.393128</td>\n",
       "      <td>0.924370</td>\n",
       "    </tr>\n",
       "  </tbody>\n",
       "</table>\n",
       "</div>"
      ],
      "text/plain": [
       "           Negative  Non Negative\n",
       "Precision  0.769380      0.703551\n",
       "Recall     0.393128      0.924370"
      ]
     },
     "execution_count": 177,
     "metadata": {},
     "output_type": "execute_result"
    }
   ],
   "source": [
    "statistics(confm)"
   ]
  }
 ],
 "metadata": {
  "kernelspec": {
   "display_name": "Python 3",
   "language": "python",
   "name": "python3"
  },
  "language_info": {
   "codemirror_mode": {
    "name": "ipython",
    "version": 3
   },
   "file_extension": ".py",
   "mimetype": "text/x-python",
   "name": "python",
   "nbconvert_exporter": "python",
   "pygments_lexer": "ipython3",
   "version": "3.8.3"
  }
 },
 "nbformat": 4,
 "nbformat_minor": 4
}
