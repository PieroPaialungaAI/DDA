{
 "cells": [
  {
   "cell_type": "markdown",
   "metadata": {},
   "source": [
    "# 4 Dataset Classification"
   ]
  },
  {
   "cell_type": "code",
   "execution_count": 3,
   "metadata": {
    "collapsed": true
   },
   "outputs": [],
   "source": [
    "#Importing the libraries to watch the 'fits' image and get the data array\n",
    "import astropy\n",
    "#import plotly.graph_objects as go\n",
    "from astropy.io import fits\n",
    "#Importing a library that is useful to read the original file\n",
    "import pandas as pd\n",
    "import pylab as plb\n",
    "import matplotlib.pyplot as plt\n",
    "from scipy.optimize import curve_fit\n",
    "from scipy import asarray as ar,exp\n",
    "#Importing a visual library with some illustrative set up\n",
    "import matplotlib.pyplot as plt\n",
    "import matplotlib.colors as mcolors \n",
    "from matplotlib import cm\n",
    "import numpy as np\n",
    "from sklearn.utils.testing import ignore_warnings\n",
    "from sklearn.exceptions import ConvergenceWarning\n",
    "from sklearn.decomposition import PCA\n",
    "import math \n",
    "import seaborn as sns\n",
    "from sklearn.linear_model import LogisticRegression\n",
    "plt.style.use('fivethirtyeight')\n",
    "plt.rcParams['font.family'] = 'sans-serif' \n",
    "plt.rcParams['font.serif'] = 'Ubuntu' \n",
    "plt.rcParams['font.monospace'] = 'Ubuntu Mono' \n",
    "plt.rcParams['font.size'] = 14 \n",
    "plt.rcParams['axes.labelsize'] = 12 \n",
    "plt.rcParams['axes.labelweight'] = 'bold' \n",
    "plt.rcParams['axes.titlesize'] = 12 \n",
    "plt.rcParams['xtick.labelsize'] = 12 \n",
    "plt.rcParams['ytick.labelsize'] = 12 \n",
    "#plt.rcParams['legend.fontsize'] = 12 \n",
    "plt.rcParams['figure.titlesize'] = 12 \n",
    "plt.rcParams['image.cmap'] = 'jet' \n",
    "plt.rcParams['image.interpolation'] = 'none' \n",
    "plt.rcParams['figure.figsize'] = (16, 8) \n",
    "plt.rcParams['lines.linewidth'] = 2 \n",
    "plt.rcParams['lines.markersize'] = 8\n",
    "plt.rcParams[\"axes.grid\"] = False\n",
    "\n"
   ]
  },
  {
   "cell_type": "code",
   "execution_count": 4,
   "metadata": {
    "collapsed": true
   },
   "outputs": [],
   "source": [
    "data=pd.read_csv('star.txt',sep='\\s+')"
   ]
  },
  {
   "cell_type": "code",
   "execution_count": 5,
   "metadata": {
    "collapsed": true
   },
   "outputs": [],
   "source": [
    "x=np.array(data.F606W-data.F814W)\n",
    "y=np.array(data.F606W)"
   ]
  },
  {
   "cell_type": "code",
   "execution_count": 6,
   "metadata": {
    "collapsed": true
   },
   "outputs": [
    {
     "data": {
      "text/html": [
       "<div>\n",
       "<style scoped>\n",
       "    .dataframe tbody tr th:only-of-type {\n",
       "        vertical-align: middle;\n",
       "    }\n",
       "\n",
       "    .dataframe tbody tr th {\n",
       "        vertical-align: top;\n",
       "    }\n",
       "\n",
       "    .dataframe thead th {\n",
       "        text-align: right;\n",
       "    }\n",
       "</style>\n",
       "<table border=\"1\" class=\"dataframe\">\n",
       "  <thead>\n",
       "    <tr style=\"text-align: right;\">\n",
       "      <th></th>\n",
       "      <th>#ID</th>\n",
       "      <th>X</th>\n",
       "      <th>Y</th>\n",
       "      <th>F606W</th>\n",
       "      <th>error</th>\n",
       "      <th>F814W</th>\n",
       "      <th>error.1</th>\n",
       "      <th>Chi</th>\n",
       "      <th>Sharp</th>\n",
       "    </tr>\n",
       "  </thead>\n",
       "  <tbody>\n",
       "    <tr>\n",
       "      <th>0</th>\n",
       "      <td>8</td>\n",
       "      <td>4462.947</td>\n",
       "      <td>140.859</td>\n",
       "      <td>28.197</td>\n",
       "      <td>0.1036</td>\n",
       "      <td>27.127</td>\n",
       "      <td>0.1068</td>\n",
       "      <td>6.106</td>\n",
       "      <td>0.7310</td>\n",
       "    </tr>\n",
       "    <tr>\n",
       "      <th>1</th>\n",
       "      <td>120</td>\n",
       "      <td>5002.486</td>\n",
       "      <td>186.138</td>\n",
       "      <td>20.843</td>\n",
       "      <td>0.0552</td>\n",
       "      <td>19.815</td>\n",
       "      <td>0.0661</td>\n",
       "      <td>10.690</td>\n",
       "      <td>0.4000</td>\n",
       "    </tr>\n",
       "    <tr>\n",
       "      <th>2</th>\n",
       "      <td>165</td>\n",
       "      <td>5003.574</td>\n",
       "      <td>195.421</td>\n",
       "      <td>27.014</td>\n",
       "      <td>0.2194</td>\n",
       "      <td>26.068</td>\n",
       "      <td>0.1349</td>\n",
       "      <td>10.651</td>\n",
       "      <td>0.1940</td>\n",
       "    </tr>\n",
       "    <tr>\n",
       "      <th>3</th>\n",
       "      <td>226</td>\n",
       "      <td>4448.493</td>\n",
       "      <td>207.417</td>\n",
       "      <td>30.193</td>\n",
       "      <td>0.3641</td>\n",
       "      <td>28.270</td>\n",
       "      <td>0.1636</td>\n",
       "      <td>4.059</td>\n",
       "      <td>-1.9585</td>\n",
       "    </tr>\n",
       "    <tr>\n",
       "      <th>4</th>\n",
       "      <td>351</td>\n",
       "      <td>5040.717</td>\n",
       "      <td>224.366</td>\n",
       "      <td>28.935</td>\n",
       "      <td>0.1669</td>\n",
       "      <td>28.941</td>\n",
       "      <td>0.2464</td>\n",
       "      <td>4.274</td>\n",
       "      <td>-0.7720</td>\n",
       "    </tr>\n",
       "  </tbody>\n",
       "</table>\n",
       "</div>"
      ],
      "text/plain": [
       "   #ID         X        Y   F606W   error   F814W  error.1     Chi   Sharp\n",
       "0    8  4462.947  140.859  28.197  0.1036  27.127   0.1068   6.106  0.7310\n",
       "1  120  5002.486  186.138  20.843  0.0552  19.815   0.0661  10.690  0.4000\n",
       "2  165  5003.574  195.421  27.014  0.2194  26.068   0.1349  10.651  0.1940\n",
       "3  226  4448.493  207.417  30.193  0.3641  28.270   0.1636   4.059 -1.9585\n",
       "4  351  5040.717  224.366  28.935  0.1669  28.941   0.2464   4.274 -0.7720"
      ]
     },
     "execution_count": 6,
     "metadata": {},
     "output_type": "execute_result"
    }
   ],
   "source": [
    "data.head()"
   ]
  },
  {
   "cell_type": "code",
   "execution_count": 7,
   "metadata": {
    "collapsed": true
   },
   "outputs": [],
   "source": [
    "notar=data.drop(columns=['Sharp','#ID'])"
   ]
  },
  {
   "cell_type": "markdown",
   "metadata": {},
   "source": [
    "# P.C.A. Excluding Space"
   ]
  },
  {
   "cell_type": "code",
   "execution_count": 6,
   "metadata": {
    "collapsed": true
   },
   "outputs": [],
   "source": [
    "notar=data.drop(columns=['Sharp','#ID','X','Y'])"
   ]
  },
  {
   "cell_type": "code",
   "execution_count": 9,
   "metadata": {
    "collapsed": true
   },
   "outputs": [
    {
     "data": {
      "text/html": [
       "<div>\n",
       "<style scoped>\n",
       "    .dataframe tbody tr th:only-of-type {\n",
       "        vertical-align: middle;\n",
       "    }\n",
       "\n",
       "    .dataframe tbody tr th {\n",
       "        vertical-align: top;\n",
       "    }\n",
       "\n",
       "    .dataframe thead th {\n",
       "        text-align: right;\n",
       "    }\n",
       "</style>\n",
       "<table border=\"1\" class=\"dataframe\">\n",
       "  <thead>\n",
       "    <tr style=\"text-align: right;\">\n",
       "      <th></th>\n",
       "      <th>F606W</th>\n",
       "      <th>error</th>\n",
       "      <th>F814W</th>\n",
       "      <th>error.1</th>\n",
       "      <th>Chi</th>\n",
       "    </tr>\n",
       "  </thead>\n",
       "  <tbody>\n",
       "    <tr>\n",
       "      <th>0</th>\n",
       "      <td>28.197</td>\n",
       "      <td>0.1036</td>\n",
       "      <td>27.127</td>\n",
       "      <td>0.1068</td>\n",
       "      <td>6.106</td>\n",
       "    </tr>\n",
       "    <tr>\n",
       "      <th>1</th>\n",
       "      <td>20.843</td>\n",
       "      <td>0.0552</td>\n",
       "      <td>19.815</td>\n",
       "      <td>0.0661</td>\n",
       "      <td>10.690</td>\n",
       "    </tr>\n",
       "    <tr>\n",
       "      <th>2</th>\n",
       "      <td>27.014</td>\n",
       "      <td>0.2194</td>\n",
       "      <td>26.068</td>\n",
       "      <td>0.1349</td>\n",
       "      <td>10.651</td>\n",
       "    </tr>\n",
       "    <tr>\n",
       "      <th>3</th>\n",
       "      <td>30.193</td>\n",
       "      <td>0.3641</td>\n",
       "      <td>28.270</td>\n",
       "      <td>0.1636</td>\n",
       "      <td>4.059</td>\n",
       "    </tr>\n",
       "    <tr>\n",
       "      <th>4</th>\n",
       "      <td>28.935</td>\n",
       "      <td>0.1669</td>\n",
       "      <td>28.941</td>\n",
       "      <td>0.2464</td>\n",
       "      <td>4.274</td>\n",
       "    </tr>\n",
       "  </tbody>\n",
       "</table>\n",
       "</div>"
      ],
      "text/plain": [
       "    F606W   error   F814W  error.1     Chi\n",
       "0  28.197  0.1036  27.127   0.1068   6.106\n",
       "1  20.843  0.0552  19.815   0.0661  10.690\n",
       "2  27.014  0.2194  26.068   0.1349  10.651\n",
       "3  30.193  0.3641  28.270   0.1636   4.059\n",
       "4  28.935  0.1669  28.941   0.2464   4.274"
      ]
     },
     "execution_count": 9,
     "metadata": {},
     "output_type": "execute_result"
    }
   ],
   "source": [
    "notar.head()"
   ]
  },
  {
   "cell_type": "code",
   "execution_count": 7,
   "metadata": {
    "collapsed": true
   },
   "outputs": [],
   "source": [
    "pca=PCA(n_components=3)\n",
    "pca=pca.fit(notar)\n",
    "pca_data=pd.DataFrame(pca.transform(notar))"
   ]
  },
  {
   "cell_type": "code",
   "execution_count": 8,
   "metadata": {
    "collapsed": true
   },
   "outputs": [],
   "source": [
    "pca_data=pca_data.rename(columns={0:'FirstComponent',1:'SecondComponent',2:'ThirdComponent'})"
   ]
  },
  {
   "cell_type": "code",
   "execution_count": 57,
   "metadata": {
    "collapsed": true
   },
   "outputs": [],
   "source": [
    "pca_data['X']=data.X\n",
    "pca_data['Y']=data.Y"
   ]
  },
  {
   "cell_type": "code",
   "execution_count": 58,
   "metadata": {
    "collapsed": true
   },
   "outputs": [],
   "source": [
    "pca_data['Sharp']=data.Sharp"
   ]
  },
  {
   "cell_type": "code",
   "execution_count": 59,
   "metadata": {
    "collapsed": true
   },
   "outputs": [
    {
     "data": {
      "text/html": [
       "<div>\n",
       "<style scoped>\n",
       "    .dataframe tbody tr th:only-of-type {\n",
       "        vertical-align: middle;\n",
       "    }\n",
       "\n",
       "    .dataframe tbody tr th {\n",
       "        vertical-align: top;\n",
       "    }\n",
       "\n",
       "    .dataframe thead th {\n",
       "        text-align: right;\n",
       "    }\n",
       "</style>\n",
       "<table border=\"1\" class=\"dataframe\">\n",
       "  <thead>\n",
       "    <tr style=\"text-align: right;\">\n",
       "      <th></th>\n",
       "      <th>FirstComponent</th>\n",
       "      <th>SecondComponent</th>\n",
       "      <th>ThirdComponent</th>\n",
       "      <th>X</th>\n",
       "      <th>Y</th>\n",
       "      <th>Sharp</th>\n",
       "    </tr>\n",
       "  </thead>\n",
       "  <tbody>\n",
       "    <tr>\n",
       "      <th>0</th>\n",
       "      <td>-3.348246</td>\n",
       "      <td>3.558359</td>\n",
       "      <td>0.052565</td>\n",
       "      <td>4462.947</td>\n",
       "      <td>140.859</td>\n",
       "      <td>0.7310</td>\n",
       "    </tr>\n",
       "    <tr>\n",
       "      <th>1</th>\n",
       "      <td>6.885136</td>\n",
       "      <td>8.439184</td>\n",
       "      <td>0.189286</td>\n",
       "      <td>5002.486</td>\n",
       "      <td>186.138</td>\n",
       "      <td>0.4000</td>\n",
       "    </tr>\n",
       "    <tr>\n",
       "      <th>2</th>\n",
       "      <td>-1.896787</td>\n",
       "      <td>8.148357</td>\n",
       "      <td>0.145220</td>\n",
       "      <td>5003.574</td>\n",
       "      <td>195.421</td>\n",
       "      <td>0.1940</td>\n",
       "    </tr>\n",
       "    <tr>\n",
       "      <th>3</th>\n",
       "      <td>-5.504066</td>\n",
       "      <td>1.449171</td>\n",
       "      <td>-0.564914</td>\n",
       "      <td>4448.493</td>\n",
       "      <td>207.417</td>\n",
       "      <td>-1.9585</td>\n",
       "    </tr>\n",
       "    <tr>\n",
       "      <th>4</th>\n",
       "      <td>-5.110070</td>\n",
       "      <td>1.678896</td>\n",
       "      <td>0.804773</td>\n",
       "      <td>5040.717</td>\n",
       "      <td>224.366</td>\n",
       "      <td>-0.7720</td>\n",
       "    </tr>\n",
       "  </tbody>\n",
       "</table>\n",
       "</div>"
      ],
      "text/plain": [
       "   FirstComponent  SecondComponent  ThirdComponent         X        Y   Sharp\n",
       "0       -3.348246         3.558359        0.052565  4462.947  140.859  0.7310\n",
       "1        6.885136         8.439184        0.189286  5002.486  186.138  0.4000\n",
       "2       -1.896787         8.148357        0.145220  5003.574  195.421  0.1940\n",
       "3       -5.504066         1.449171       -0.564914  4448.493  207.417 -1.9585\n",
       "4       -5.110070         1.678896        0.804773  5040.717  224.366 -0.7720"
      ]
     },
     "execution_count": 59,
     "metadata": {},
     "output_type": "execute_result"
    }
   ],
   "source": [
    "pca_data.head()"
   ]
  },
  {
   "cell_type": "code",
   "execution_count": 60,
   "metadata": {
    "collapsed": true
   },
   "outputs": [],
   "source": [
    "#pca_data=pca_data.drop(columns=['Sharp'])"
   ]
  },
  {
   "cell_type": "markdown",
   "metadata": {},
   "source": [
    "# 2-class: Positive or Negative"
   ]
  },
  {
   "cell_type": "markdown",
   "metadata": {},
   "source": [
    "# 1. PCA Linear Classifier "
   ]
  },
  {
   "cell_type": "code",
   "execution_count": 9,
   "metadata": {
    "collapsed": true
   },
   "outputs": [],
   "source": [
    "data['SharpSign']=data.Sharp.apply(np.sign)\n",
    "data['SharpSign']=data['SharpSign'].replace(0,1)"
   ]
  },
  {
   "cell_type": "code",
   "execution_count": 10,
   "metadata": {
    "collapsed": true
   },
   "outputs": [],
   "source": [
    "pca_data['Target']=data['SharpSign']"
   ]
  },
  {
   "cell_type": "code",
   "execution_count": 303,
   "metadata": {
    "collapsed": true
   },
   "outputs": [
    {
     "data": {
      "text/html": [
       "<div>\n",
       "<style scoped>\n",
       "    .dataframe tbody tr th:only-of-type {\n",
       "        vertical-align: middle;\n",
       "    }\n",
       "\n",
       "    .dataframe tbody tr th {\n",
       "        vertical-align: top;\n",
       "    }\n",
       "\n",
       "    .dataframe thead th {\n",
       "        text-align: right;\n",
       "    }\n",
       "</style>\n",
       "<table border=\"1\" class=\"dataframe\">\n",
       "  <thead>\n",
       "    <tr style=\"text-align: right;\">\n",
       "      <th></th>\n",
       "      <th>FirstComponent</th>\n",
       "      <th>SecondComponent</th>\n",
       "      <th>ThirdComponent</th>\n",
       "      <th>X</th>\n",
       "      <th>Y</th>\n",
       "      <th>Sharp</th>\n",
       "      <th>Target</th>\n",
       "    </tr>\n",
       "  </thead>\n",
       "  <tbody>\n",
       "    <tr>\n",
       "      <th>0</th>\n",
       "      <td>-3.348246</td>\n",
       "      <td>3.558359</td>\n",
       "      <td>0.052565</td>\n",
       "      <td>4462.947</td>\n",
       "      <td>140.859</td>\n",
       "      <td>0.7310</td>\n",
       "      <td>1.0</td>\n",
       "    </tr>\n",
       "    <tr>\n",
       "      <th>1</th>\n",
       "      <td>6.885136</td>\n",
       "      <td>8.439184</td>\n",
       "      <td>0.189286</td>\n",
       "      <td>5002.486</td>\n",
       "      <td>186.138</td>\n",
       "      <td>0.4000</td>\n",
       "      <td>1.0</td>\n",
       "    </tr>\n",
       "    <tr>\n",
       "      <th>2</th>\n",
       "      <td>-1.896787</td>\n",
       "      <td>8.148357</td>\n",
       "      <td>0.145220</td>\n",
       "      <td>5003.574</td>\n",
       "      <td>195.421</td>\n",
       "      <td>0.1940</td>\n",
       "      <td>1.0</td>\n",
       "    </tr>\n",
       "    <tr>\n",
       "      <th>3</th>\n",
       "      <td>-5.504066</td>\n",
       "      <td>1.449171</td>\n",
       "      <td>-0.564914</td>\n",
       "      <td>4448.493</td>\n",
       "      <td>207.417</td>\n",
       "      <td>-1.9585</td>\n",
       "      <td>-1.0</td>\n",
       "    </tr>\n",
       "    <tr>\n",
       "      <th>4</th>\n",
       "      <td>-5.110070</td>\n",
       "      <td>1.678896</td>\n",
       "      <td>0.804773</td>\n",
       "      <td>5040.717</td>\n",
       "      <td>224.366</td>\n",
       "      <td>-0.7720</td>\n",
       "      <td>-1.0</td>\n",
       "    </tr>\n",
       "  </tbody>\n",
       "</table>\n",
       "</div>"
      ],
      "text/plain": [
       "   FirstComponent  SecondComponent  ThirdComponent         X        Y   Sharp  \\\n",
       "0       -3.348246         3.558359        0.052565  4462.947  140.859  0.7310   \n",
       "1        6.885136         8.439184        0.189286  5002.486  186.138  0.4000   \n",
       "2       -1.896787         8.148357        0.145220  5003.574  195.421  0.1940   \n",
       "3       -5.504066         1.449171       -0.564914  4448.493  207.417 -1.9585   \n",
       "4       -5.110070         1.678896        0.804773  5040.717  224.366 -0.7720   \n",
       "\n",
       "   Target  \n",
       "0     1.0  \n",
       "1     1.0  \n",
       "2     1.0  \n",
       "3    -1.0  \n",
       "4    -1.0  "
      ]
     },
     "execution_count": 303,
     "metadata": {},
     "output_type": "execute_result"
    }
   ],
   "source": [
    "pca_data.head()"
   ]
  },
  {
   "cell_type": "code",
   "execution_count": 11,
   "metadata": {
    "collapsed": true
   },
   "outputs": [],
   "source": [
    "from sklearn.svm import LinearSVC as SVC\n",
    "from sklearn.model_selection import train_test_split\n"
   ]
  },
  {
   "cell_type": "code",
   "execution_count": 325,
   "metadata": {
    "collapsed": true
   },
   "outputs": [],
   "source": [
    "X=pca_data.drop(columns=['Sharp','Target'])"
   ]
  },
  {
   "cell_type": "code",
   "execution_count": 326,
   "metadata": {
    "collapsed": true
   },
   "outputs": [],
   "source": [
    "y=pca_data.Target"
   ]
  },
  {
   "cell_type": "code",
   "execution_count": 327,
   "metadata": {
    "collapsed": true
   },
   "outputs": [],
   "source": [
    "X_train, X_test, y_train, y_test = train_test_split(\n",
    "    X, y, test_size=0.2, random_state=42)"
   ]
  },
  {
   "cell_type": "code",
   "execution_count": 328,
   "metadata": {
    "collapsed": true
   },
   "outputs": [],
   "source": [
    "X_traint,X_train_val,y_traint,y_train_val= train_test_split(\n",
    "    X_train, y_train, test_size=0.2, random_state=42)"
   ]
  },
  {
   "cell_type": "code",
   "execution_count": null,
   "metadata": {
    "collapsed": true
   },
   "outputs": [],
   "source": [
    "C_SCORE=[]\n",
    "c=np.arange(0.2,1.2,0.2)\n",
    "for c_value in c:\n",
    "    clf=SVC(C=c_value)\n",
    "    clf.fit(X_traint,y_traint)\n",
    "    sc=clf.score(X_train_val,y_train_val)\n",
    "    C_SCORE.append(sc)\n",
    "    print(str(c_value) + ' coefficient has been adopted' )"
   ]
  },
  {
   "cell_type": "code",
   "execution_count": 346,
   "metadata": {},
   "outputs": [
    {
     "name": "stdout",
     "output_type": "stream",
     "text": [
      "In the range 0.2 and 1.0\n",
      "\n",
      "the best score has been obtained with 0.6000000000000001\n",
      "and it is 0.6128444822143985\n"
     ]
    }
   ],
   "source": [
    "MIN_VAL=np.array(C_SCORE).max()\n",
    "MIN_C=c[np.array(C_SCORE).argmax()]\n",
    "print ('In the range ' + str(c.min())+ ' and ' +str(c.max())+ '\\n')\n",
    "print ('the best score has been obtained with ' + str(MIN_C))\n",
    "print ('and it is ' + str(MIN_VAL))"
   ]
  },
  {
   "cell_type": "code",
   "execution_count": 347,
   "metadata": {},
   "outputs": [
    {
     "name": "stdout",
     "output_type": "stream",
     "text": [
      "1 coefficient has been adopted\n",
      "2 coefficient has been adopted\n",
      "3 coefficient has been adopted\n",
      "4 coefficient has been adopted\n",
      "5 coefficient has been adopted\n",
      "6 coefficient has been adopted\n",
      "7 coefficient has been adopted\n",
      "8 coefficient has been adopted\n",
      "9 coefficient has been adopted\n",
      "10 coefficient has been adopted\n"
     ]
    }
   ],
   "source": [
    "C_SCORE=[]\n",
    "c=np.arange(1,11,1)\n",
    "for c_value in c:\n",
    "    clf=SVC(C=c_value)\n",
    "    clf.fit(X_traint,y_traint)\n",
    "    sc=clf.score(X_train_val,y_train_val)\n",
    "    C_SCORE.append(sc)\n",
    "    print(str(c_value) + ' coefficient has been adopted' )"
   ]
  },
  {
   "cell_type": "code",
   "execution_count": 349,
   "metadata": {
    "collapsed": true
   },
   "outputs": [
    {
     "name": "stdout",
     "output_type": "stream",
     "text": [
      "In the range 1 and 10\n",
      "\n",
      "the best score has been obtained with 7\n",
      "and it is 0.6253490348427826\n"
     ]
    }
   ],
   "source": [
    "MIN_VAL=np.array(C_SCORE).max()\n",
    "MIN_C=c[np.array(C_SCORE).argmax()]\n",
    "print ('In the range ' + str(c.min())+ ' and ' +str(c.max())+ '\\n')\n",
    "print ('the best score has been obtained with ' + str(MIN_C))\n",
    "print ('and it is ' + str(MIN_VAL))"
   ]
  },
  {
   "cell_type": "code",
   "execution_count": 343,
   "metadata": {
    "collapsed": true
   },
   "outputs": [
    {
     "name": "stdout",
     "output_type": "stream",
     "text": [
      "10 coefficient has been adopted\n",
      "20 coefficient has been adopted\n",
      "30 coefficient has been adopted\n",
      "40 coefficient has been adopted\n",
      "50 coefficient has been adopted\n",
      "60 coefficient has been adopted\n",
      "70 coefficient has been adopted\n",
      "80 coefficient has been adopted\n",
      "90 coefficient has been adopted\n",
      "100 coefficient has been adopted\n"
     ]
    }
   ],
   "source": [
    "C_SCORE=[]\n",
    "c=np.arange(10,110,10)\n",
    "for c_value in c:\n",
    "    clf=SVC(C=c_value)\n",
    "    clf.fit(X_traint,y_traint)\n",
    "    sc=clf.score(X_train_val,y_train_val)\n",
    "    C_SCORE.append(sc)\n",
    "    print(str(c_value) + ' coefficient has been adopted' )"
   ]
  },
  {
   "cell_type": "code",
   "execution_count": 344,
   "metadata": {
    "collapsed": true
   },
   "outputs": [
    {
     "name": "stdout",
     "output_type": "stream",
     "text": [
      "In the range 10 and 100\n",
      "\n",
      "the best score has been obtained with 30\n",
      "and it is 0.6247420177248998\n"
     ]
    }
   ],
   "source": [
    "MIN_VAL=np.array(C_SCORE).max()\n",
    "MIN_C=c[np.array(C_SCORE).argmax()]\n",
    "print ('In the range ' + str(c.min())+ ' and ' +str(c.max())+ '\\n')\n",
    "print ('the best score has been obtained with ' + str(MIN_C))\n",
    "print ('and it is ' + str(MIN_VAL))"
   ]
  },
  {
   "cell_type": "code",
   "execution_count": 386,
   "metadata": {
    "collapsed": true
   },
   "outputs": [],
   "source": [
    "OPT_C=[0.6,7,30]"
   ]
  },
  {
   "cell_type": "code",
   "execution_count": 388,
   "metadata": {
    "collapsed": true
   },
   "outputs": [],
   "source": [
    "FIN_SCORE=[]\n",
    "for opt_C in OPT_C:\n",
    "    clf=SVC(C=opt_c)\n",
    "    clf.fit(X_train,y_train)\n",
    "    fin_score=clf.score(X_test,y_test)\n",
    "    FIN_SCORE.append(fin_score)"
   ]
  },
  {
   "cell_type": "code",
   "execution_count": 391,
   "metadata": {
    "collapsed": true
   },
   "outputs": [],
   "source": [
    "FIN_SCORE=np.array(FIN_SCORE)"
   ]
  },
  {
   "cell_type": "code",
   "execution_count": 392,
   "metadata": {
    "collapsed": true
   },
   "outputs": [],
   "source": [
    "fin_score=FIN_SCORE.max()"
   ]
  },
  {
   "cell_type": "code",
   "execution_count": 394,
   "metadata": {},
   "outputs": [
    {
     "name": "stdout",
     "output_type": "stream",
     "text": [
      "The PCA dataset gave a best classification with 62.849650349650354% of accuracy with a linear classifier\n"
     ]
    }
   ],
   "source": [
    "print ('The PCA dataset gave a best classification with ' + str(fin_score*100)+ '% of accuracy with a linear classifier')"
   ]
  },
  {
   "cell_type": "markdown",
   "metadata": {},
   "source": [
    "# 1.2 Dataset Linear Classifier"
   ]
  },
  {
   "cell_type": "code",
   "execution_count": 413,
   "metadata": {
    "collapsed": true
   },
   "outputs": [],
   "source": [
    "X=data.drop(columns=['SharpSign'])"
   ]
  },
  {
   "cell_type": "code",
   "execution_count": 414,
   "metadata": {
    "collapsed": true
   },
   "outputs": [],
   "source": [
    "X=pca_data.drop(columns=['Sharp','Target'])"
   ]
  },
  {
   "cell_type": "code",
   "execution_count": 415,
   "metadata": {
    "collapsed": true
   },
   "outputs": [],
   "source": [
    "X_train, X_test, y_train, y_test = train_test_split(\n",
    "    X, y, test_size=0.2, random_state=42)"
   ]
  },
  {
   "cell_type": "code",
   "execution_count": 416,
   "metadata": {
    "collapsed": true
   },
   "outputs": [],
   "source": [
    "X_traint,X_train_val,y_traint,y_train_val= train_test_split(\n",
    "    X_train, y_train, test_size=0.2, random_state=42)"
   ]
  },
  {
   "cell_type": "code",
   "execution_count": 417,
   "metadata": {
    "collapsed": true
   },
   "outputs": [
    {
     "name": "stdout",
     "output_type": "stream",
     "text": [
      "0.2 coefficient has been adopted\n",
      "0.4 coefficient has been adopted\n",
      "0.6000000000000001 coefficient has been adopted\n",
      "0.8 coefficient has been adopted\n",
      "1.0 coefficient has been adopted\n"
     ]
    }
   ],
   "source": [
    "C_SCORE=[]\n",
    "c=np.arange(0.2,1.2,0.2)\n",
    "for c_value in c:\n",
    "    clf=SVC(C=c_value)\n",
    "    clf.fit(X_traint,y_traint)\n",
    "    sc=clf.score(X_train_val,y_train_val)\n",
    "    C_SCORE.append(sc)\n",
    "    print(str(c_value) + ' coefficient has been adopted' )"
   ]
  },
  {
   "cell_type": "code",
   "execution_count": 418,
   "metadata": {
    "collapsed": true
   },
   "outputs": [
    {
     "name": "stdout",
     "output_type": "stream",
     "text": [
      "In the range 0.2 and 1.0\n",
      "\n",
      "the best score has been obtained with 1.0\n",
      "and it is 0.6195216705111084\n"
     ]
    }
   ],
   "source": [
    "MIN_VAL=np.array(C_SCORE).max()\n",
    "MIN_C=c[np.array(C_SCORE).argmax()]\n",
    "print ('In the range ' + str(c.min())+ ' and ' +str(c.max())+ '\\n')\n",
    "print ('the best score has been obtained with ' + str(MIN_C))\n",
    "print ('and it is ' + str(MIN_VAL))"
   ]
  },
  {
   "cell_type": "code",
   "execution_count": 419,
   "metadata": {
    "collapsed": true
   },
   "outputs": [
    {
     "name": "stdout",
     "output_type": "stream",
     "text": [
      "1 coefficient has been adopted\n",
      "2 coefficient has been adopted\n",
      "3 coefficient has been adopted\n",
      "4 coefficient has been adopted\n",
      "5 coefficient has been adopted\n",
      "6 coefficient has been adopted\n",
      "7 coefficient has been adopted\n",
      "8 coefficient has been adopted\n",
      "9 coefficient has been adopted\n",
      "10 coefficient has been adopted\n"
     ]
    }
   ],
   "source": [
    "C_SCORE=[]\n",
    "c=np.arange(1,11,1)\n",
    "for c_value in c:\n",
    "    clf=SVC(C=c_value)\n",
    "    clf.fit(X_traint,y_traint)\n",
    "    sc=clf.score(X_train_val,y_train_val)\n",
    "    C_SCORE.append(sc)\n",
    "    print(str(c_value) + ' coefficient has been adopted' )"
   ]
  },
  {
   "cell_type": "code",
   "execution_count": 420,
   "metadata": {
    "collapsed": true
   },
   "outputs": [
    {
     "name": "stdout",
     "output_type": "stream",
     "text": [
      "In the range 1 and 10\n",
      "\n",
      "the best score has been obtained with 9\n",
      "and it is 0.6219497389826393\n"
     ]
    }
   ],
   "source": [
    "MIN_VAL=np.array(C_SCORE).max()\n",
    "MIN_C=c[np.array(C_SCORE).argmax()]\n",
    "print ('In the range ' + str(c.min())+ ' and ' +str(c.max())+ '\\n')\n",
    "print ('the best score has been obtained with ' + str(MIN_C))\n",
    "print ('and it is ' + str(MIN_VAL))"
   ]
  },
  {
   "cell_type": "code",
   "execution_count": 421,
   "metadata": {
    "collapsed": true
   },
   "outputs": [
    {
     "name": "stdout",
     "output_type": "stream",
     "text": [
      "10 coefficient has been adopted\n",
      "20 coefficient has been adopted\n",
      "30 coefficient has been adopted\n",
      "40 coefficient has been adopted\n",
      "50 coefficient has been adopted\n",
      "60 coefficient has been adopted\n",
      "70 coefficient has been adopted\n",
      "80 coefficient has been adopted\n",
      "90 coefficient has been adopted\n",
      "100 coefficient has been adopted\n"
     ]
    }
   ],
   "source": [
    "C_SCORE=[]\n",
    "c=np.arange(10,110,10)\n",
    "for c_value in c:\n",
    "    clf=SVC(C=c_value)\n",
    "    clf.fit(X_traint,y_traint)\n",
    "    sc=clf.score(X_train_val,y_train_val)\n",
    "    C_SCORE.append(sc)\n",
    "    print(str(c_value) + ' coefficient has been adopted' )"
   ]
  },
  {
   "cell_type": "code",
   "execution_count": 422,
   "metadata": {
    "collapsed": true
   },
   "outputs": [
    {
     "name": "stdout",
     "output_type": "stream",
     "text": [
      "In the range 10 and 100\n",
      "\n",
      "the best score has been obtained with 70\n",
      "and it is 0.6226781595240986\n"
     ]
    }
   ],
   "source": [
    "MIN_VAL=np.array(C_SCORE).max()\n",
    "MIN_C=c[np.array(C_SCORE).argmax()]\n",
    "print ('In the range ' + str(c.min())+ ' and ' +str(c.max())+ '\\n')\n",
    "print ('the best score has been obtained with ' + str(MIN_C))\n",
    "print ('and it is ' + str(MIN_VAL))"
   ]
  },
  {
   "cell_type": "code",
   "execution_count": 423,
   "metadata": {
    "collapsed": true
   },
   "outputs": [],
   "source": [
    "OPT_C=[1,70]"
   ]
  },
  {
   "cell_type": "code",
   "execution_count": 424,
   "metadata": {
    "collapsed": true
   },
   "outputs": [],
   "source": [
    "FIN_SCORE=[]\n",
    "for opt_C in OPT_C:\n",
    "    clf=SVC(C=opt_c)\n",
    "    clf.fit(X_train,y_train)\n",
    "    fin_score=clf.score(X_test,y_test)\n",
    "    FIN_SCORE.append(fin_score)"
   ]
  },
  {
   "cell_type": "code",
   "execution_count": 425,
   "metadata": {
    "collapsed": true
   },
   "outputs": [],
   "source": [
    "FIN_SCORE=np.array(FIN_SCORE)"
   ]
  },
  {
   "cell_type": "code",
   "execution_count": 426,
   "metadata": {
    "collapsed": true
   },
   "outputs": [],
   "source": [
    "fin_score=FIN_SCORE.max()"
   ]
  },
  {
   "cell_type": "code",
   "execution_count": 427,
   "metadata": {},
   "outputs": [
    {
     "name": "stdout",
     "output_type": "stream",
     "text": [
      "The PCA dataset gave a best classification with 61.34421134421134% of accuracy with a linear classifier\n"
     ]
    }
   ],
   "source": [
    "print ('The PCA dataset gave a best classification with ' + str(fin_score*100)+ '% of accuracy with a linear classifier')"
   ]
  },
  {
   "cell_type": "markdown",
   "metadata": {},
   "source": [
    "# 1.3 Best Features Classification Original Data"
   ]
  },
  {
   "cell_type": "code",
   "execution_count": 433,
   "metadata": {
    "collapsed": true
   },
   "outputs": [],
   "source": [
    "opt_data=data.drop(columns=['#ID','X','Y','Chi','Sharp','F606W'])"
   ]
  },
  {
   "cell_type": "code",
   "execution_count": 434,
   "metadata": {
    "collapsed": true
   },
   "outputs": [
    {
     "data": {
      "text/html": [
       "<div>\n",
       "<style scoped>\n",
       "    .dataframe tbody tr th:only-of-type {\n",
       "        vertical-align: middle;\n",
       "    }\n",
       "\n",
       "    .dataframe tbody tr th {\n",
       "        vertical-align: top;\n",
       "    }\n",
       "\n",
       "    .dataframe thead th {\n",
       "        text-align: right;\n",
       "    }\n",
       "</style>\n",
       "<table border=\"1\" class=\"dataframe\">\n",
       "  <thead>\n",
       "    <tr style=\"text-align: right;\">\n",
       "      <th></th>\n",
       "      <th>error</th>\n",
       "      <th>F814W</th>\n",
       "      <th>error.1</th>\n",
       "      <th>SharpSign</th>\n",
       "    </tr>\n",
       "  </thead>\n",
       "  <tbody>\n",
       "    <tr>\n",
       "      <th>0</th>\n",
       "      <td>0.1036</td>\n",
       "      <td>27.127</td>\n",
       "      <td>0.1068</td>\n",
       "      <td>1.0</td>\n",
       "    </tr>\n",
       "    <tr>\n",
       "      <th>1</th>\n",
       "      <td>0.0552</td>\n",
       "      <td>19.815</td>\n",
       "      <td>0.0661</td>\n",
       "      <td>1.0</td>\n",
       "    </tr>\n",
       "    <tr>\n",
       "      <th>2</th>\n",
       "      <td>0.2194</td>\n",
       "      <td>26.068</td>\n",
       "      <td>0.1349</td>\n",
       "      <td>1.0</td>\n",
       "    </tr>\n",
       "    <tr>\n",
       "      <th>3</th>\n",
       "      <td>0.3641</td>\n",
       "      <td>28.270</td>\n",
       "      <td>0.1636</td>\n",
       "      <td>-1.0</td>\n",
       "    </tr>\n",
       "    <tr>\n",
       "      <th>4</th>\n",
       "      <td>0.1669</td>\n",
       "      <td>28.941</td>\n",
       "      <td>0.2464</td>\n",
       "      <td>-1.0</td>\n",
       "    </tr>\n",
       "  </tbody>\n",
       "</table>\n",
       "</div>"
      ],
      "text/plain": [
       "    error   F814W  error.1  SharpSign\n",
       "0  0.1036  27.127   0.1068        1.0\n",
       "1  0.0552  19.815   0.0661        1.0\n",
       "2  0.2194  26.068   0.1349        1.0\n",
       "3  0.3641  28.270   0.1636       -1.0\n",
       "4  0.1669  28.941   0.2464       -1.0"
      ]
     },
     "execution_count": 434,
     "metadata": {},
     "output_type": "execute_result"
    }
   ],
   "source": [
    "opt_data.head()"
   ]
  },
  {
   "cell_type": "code",
   "execution_count": 436,
   "metadata": {
    "collapsed": true
   },
   "outputs": [],
   "source": [
    "X=opt_data.drop(columns=['SharpSign'])"
   ]
  },
  {
   "cell_type": "code",
   "execution_count": 437,
   "metadata": {
    "collapsed": true
   },
   "outputs": [],
   "source": [
    "data['SharpSign']=data.Sharp.apply(np.sign)\n",
    "data['SharpSign']=data['SharpSign'].replace(0,1)\n",
    "y=data.SharpSign"
   ]
  },
  {
   "cell_type": "code",
   "execution_count": 438,
   "metadata": {
    "collapsed": true
   },
   "outputs": [],
   "source": [
    "X_train, X_test, y_train, y_test = train_test_split(\n",
    "    X, y, test_size=0.2, random_state=42)"
   ]
  },
  {
   "cell_type": "code",
   "execution_count": 439,
   "metadata": {
    "collapsed": true
   },
   "outputs": [],
   "source": [
    "X_traint,X_train_val,y_traint,y_train_val= train_test_split(\n",
    "    X_train, y_train, test_size=0.2, random_state=42)"
   ]
  },
  {
   "cell_type": "code",
   "execution_count": 440,
   "metadata": {
    "collapsed": true
   },
   "outputs": [
    {
     "name": "stdout",
     "output_type": "stream",
     "text": [
      "0.2 coefficient has been adopted\n",
      "0.4 coefficient has been adopted\n",
      "0.6000000000000001 coefficient has been adopted\n",
      "0.8 coefficient has been adopted\n",
      "1.0 coefficient has been adopted\n"
     ]
    }
   ],
   "source": [
    "C_SCORE=[]\n",
    "c=np.arange(0.2,1.2,0.2)\n",
    "for c_value in c:\n",
    "    clf=SVC(C=c_value)\n",
    "    clf.fit(X_traint,y_traint)\n",
    "    sc=clf.score(X_train_val,y_train_val)\n",
    "    C_SCORE.append(sc)\n",
    "    print(str(c_value) + ' coefficient has been adopted' )"
   ]
  },
  {
   "cell_type": "code",
   "execution_count": 441,
   "metadata": {
    "collapsed": true
   },
   "outputs": [
    {
     "name": "stdout",
     "output_type": "stream",
     "text": [
      "In the range 0.2 and 1.0\n",
      "\n",
      "the best score has been obtained with 0.2\n",
      "and it is 0.6895714459147748\n"
     ]
    }
   ],
   "source": [
    "MIN_VAL=np.array(C_SCORE).max()\n",
    "MIN_C=c[np.array(C_SCORE).argmax()]\n",
    "print ('In the range ' + str(c.min())+ ' and ' +str(c.max())+ '\\n')\n",
    "print ('the best score has been obtained with ' + str(MIN_C))\n",
    "print ('and it is ' + str(MIN_VAL))"
   ]
  },
  {
   "cell_type": "code",
   "execution_count": 442,
   "metadata": {
    "collapsed": true
   },
   "outputs": [
    {
     "name": "stdout",
     "output_type": "stream",
     "text": [
      "1 coefficient has been adopted\n",
      "2 coefficient has been adopted\n",
      "3 coefficient has been adopted\n",
      "4 coefficient has been adopted\n",
      "5 coefficient has been adopted\n",
      "6 coefficient has been adopted\n",
      "7 coefficient has been adopted\n",
      "8 coefficient has been adopted\n",
      "9 coefficient has been adopted\n",
      "10 coefficient has been adopted\n"
     ]
    }
   ],
   "source": [
    "C_SCORE=[]\n",
    "c=np.arange(1,11,1)\n",
    "for c_value in c:\n",
    "    clf=SVC(C=c_value)\n",
    "    clf.fit(X_traint,y_traint)\n",
    "    sc=clf.score(X_train_val,y_train_val)\n",
    "    C_SCORE.append(sc)\n",
    "    print(str(c_value) + ' coefficient has been adopted' )"
   ]
  },
  {
   "cell_type": "code",
   "execution_count": 443,
   "metadata": {
    "collapsed": true
   },
   "outputs": [
    {
     "name": "stdout",
     "output_type": "stream",
     "text": [
      "In the range 1 and 10\n",
      "\n",
      "the best score has been obtained with 1\n",
      "and it is 0.6692970741774918\n"
     ]
    }
   ],
   "source": [
    "MIN_VAL=np.array(C_SCORE).max()\n",
    "MIN_C=c[np.array(C_SCORE).argmax()]\n",
    "print ('In the range ' + str(c.min())+ ' and ' +str(c.max())+ '\\n')\n",
    "print ('the best score has been obtained with ' + str(MIN_C))\n",
    "print ('and it is ' + str(MIN_VAL))"
   ]
  },
  {
   "cell_type": "code",
   "execution_count": 444,
   "metadata": {
    "collapsed": true
   },
   "outputs": [
    {
     "name": "stdout",
     "output_type": "stream",
     "text": [
      "10 coefficient has been adopted\n",
      "20 coefficient has been adopted\n",
      "30 coefficient has been adopted\n",
      "40 coefficient has been adopted\n",
      "50 coefficient has been adopted\n",
      "60 coefficient has been adopted\n",
      "70 coefficient has been adopted\n",
      "80 coefficient has been adopted\n",
      "90 coefficient has been adopted\n",
      "100 coefficient has been adopted\n"
     ]
    }
   ],
   "source": [
    "C_SCORE=[]\n",
    "c=np.arange(10,110,10)\n",
    "for c_value in c:\n",
    "    clf=SVC(C=c_value)\n",
    "    clf.fit(X_traint,y_traint)\n",
    "    sc=clf.score(X_train_val,y_train_val)\n",
    "    C_SCORE.append(sc)\n",
    "    print(str(c_value) + ' coefficient has been adopted' )"
   ]
  },
  {
   "cell_type": "code",
   "execution_count": 445,
   "metadata": {},
   "outputs": [
    {
     "name": "stdout",
     "output_type": "stream",
     "text": [
      "In the range 10 and 100\n",
      "\n",
      "the best score has been obtained with 40\n",
      "and it is 0.6248634211484764\n"
     ]
    }
   ],
   "source": [
    "MIN_VAL=np.array(C_SCORE).max()\n",
    "MIN_C=c[np.array(C_SCORE).argmax()]\n",
    "print ('In the range ' + str(c.min())+ ' and ' +str(c.max())+ '\\n')\n",
    "print ('the best score has been obtained with ' + str(MIN_C))\n",
    "print ('and it is ' + str(MIN_VAL))"
   ]
  },
  {
   "cell_type": "code",
   "execution_count": 447,
   "metadata": {
    "collapsed": true
   },
   "outputs": [],
   "source": [
    "OPT_C=[0.2,1,40]"
   ]
  },
  {
   "cell_type": "code",
   "execution_count": 448,
   "metadata": {
    "collapsed": true
   },
   "outputs": [],
   "source": [
    "FIN_SCORE=[]\n",
    "for opt_C in OPT_C:\n",
    "    clf=SVC(C=opt_c)\n",
    "    clf.fit(X_train,y_train)\n",
    "    fin_score=clf.score(X_test,y_test)\n",
    "    FIN_SCORE.append(fin_score)"
   ]
  },
  {
   "cell_type": "code",
   "execution_count": 449,
   "metadata": {
    "collapsed": true
   },
   "outputs": [],
   "source": [
    "FIN_SCORE=np.array(FIN_SCORE)"
   ]
  },
  {
   "cell_type": "code",
   "execution_count": 450,
   "metadata": {
    "collapsed": true
   },
   "outputs": [],
   "source": [
    "fin_score=FIN_SCORE.max()"
   ]
  },
  {
   "cell_type": "code",
   "execution_count": 451,
   "metadata": {},
   "outputs": [
    {
     "name": "stdout",
     "output_type": "stream",
     "text": [
      "The PCA dataset gave a best classification with 62.771950271950274% of accuracy with a linear classifier\n"
     ]
    }
   ],
   "source": [
    "print ('The PCA dataset gave a best classification with ' + str(fin_score*100)+ '% of accuracy with a linear classifier')"
   ]
  },
  {
   "cell_type": "markdown",
   "metadata": {},
   "source": [
    "# 1.4 Best Feature Classification PCA data"
   ]
  },
  {
   "cell_type": "code",
   "execution_count": 452,
   "metadata": {
    "collapsed": true
   },
   "outputs": [],
   "source": [
    "opt_data=pca_data[['FirstComponent','SecondComponent','ThirdComponent']]"
   ]
  },
  {
   "cell_type": "code",
   "execution_count": 453,
   "metadata": {
    "collapsed": true
   },
   "outputs": [],
   "source": [
    "X_train, X_test, y_train, y_test = train_test_split(\n",
    "    X, y, test_size=0.2, random_state=42)"
   ]
  },
  {
   "cell_type": "code",
   "execution_count": 454,
   "metadata": {
    "collapsed": true
   },
   "outputs": [],
   "source": [
    "X_traint,X_train_val,y_traint,y_train_val= train_test_split(\n",
    "    X_train, y_train, test_size=0.2, random_state=42)"
   ]
  },
  {
   "cell_type": "code",
   "execution_count": 455,
   "metadata": {
    "collapsed": true
   },
   "outputs": [
    {
     "name": "stdout",
     "output_type": "stream",
     "text": [
      "0.2 coefficient has been adopted\n",
      "0.4 coefficient has been adopted\n",
      "0.6000000000000001 coefficient has been adopted\n",
      "0.8 coefficient has been adopted\n",
      "1.0 coefficient has been adopted\n"
     ]
    }
   ],
   "source": [
    "C_SCORE=[]\n",
    "c=np.arange(0.2,1.2,0.2)\n",
    "for c_value in c:\n",
    "    clf=SVC(C=c_value)\n",
    "    clf.fit(X_traint,y_traint)\n",
    "    sc=clf.score(X_train_val,y_train_val)\n",
    "    C_SCORE.append(sc)\n",
    "    print(str(c_value) + ' coefficient has been adopted' )"
   ]
  },
  {
   "cell_type": "code",
   "execution_count": 456,
   "metadata": {
    "collapsed": true
   },
   "outputs": [
    {
     "name": "stdout",
     "output_type": "stream",
     "text": [
      "In the range 0.2 and 1.0\n",
      "\n",
      "the best score has been obtained with 0.2\n",
      "and it is 0.6904212698798106\n"
     ]
    }
   ],
   "source": [
    "MIN_VAL=np.array(C_SCORE).max()\n",
    "MIN_C=c[np.array(C_SCORE).argmax()]\n",
    "print ('In the range ' + str(c.min())+ ' and ' +str(c.max())+ '\\n')\n",
    "print ('the best score has been obtained with ' + str(MIN_C))\n",
    "print ('and it is ' + str(MIN_VAL))"
   ]
  },
  {
   "cell_type": "code",
   "execution_count": 457,
   "metadata": {
    "collapsed": true
   },
   "outputs": [
    {
     "name": "stdout",
     "output_type": "stream",
     "text": [
      "1 coefficient has been adopted\n",
      "2 coefficient has been adopted\n",
      "3 coefficient has been adopted\n",
      "4 coefficient has been adopted\n",
      "5 coefficient has been adopted\n",
      "6 coefficient has been adopted\n",
      "7 coefficient has been adopted\n",
      "8 coefficient has been adopted\n",
      "9 coefficient has been adopted\n",
      "10 coefficient has been adopted\n"
     ]
    }
   ],
   "source": [
    "C_SCORE=[]\n",
    "c=np.arange(1,11,1)\n",
    "for c_value in c:\n",
    "    clf=SVC(C=c_value)\n",
    "    clf.fit(X_traint,y_traint)\n",
    "    sc=clf.score(X_train_val,y_train_val)\n",
    "    C_SCORE.append(sc)\n",
    "    print(str(c_value) + ' coefficient has been adopted' )"
   ]
  },
  {
   "cell_type": "code",
   "execution_count": 458,
   "metadata": {
    "collapsed": true
   },
   "outputs": [
    {
     "name": "stdout",
     "output_type": "stream",
     "text": [
      "In the range 1 and 10\n",
      "\n",
      "the best score has been obtained with 1\n",
      "and it is 0.6713609323782931\n"
     ]
    }
   ],
   "source": [
    "MIN_VAL=np.array(C_SCORE).max()\n",
    "MIN_C=c[np.array(C_SCORE).argmax()]\n",
    "print ('In the range ' + str(c.min())+ ' and ' +str(c.max())+ '\\n')\n",
    "print ('the best score has been obtained with ' + str(MIN_C))\n",
    "print ('and it is ' + str(MIN_VAL))"
   ]
  },
  {
   "cell_type": "code",
   "execution_count": 459,
   "metadata": {
    "collapsed": true
   },
   "outputs": [
    {
     "name": "stdout",
     "output_type": "stream",
     "text": [
      "10 coefficient has been adopted\n",
      "20 coefficient has been adopted\n",
      "30 coefficient has been adopted\n",
      "40 coefficient has been adopted\n",
      "50 coefficient has been adopted\n",
      "60 coefficient has been adopted\n",
      "70 coefficient has been adopted\n",
      "80 coefficient has been adopted\n",
      "90 coefficient has been adopted\n",
      "100 coefficient has been adopted\n"
     ]
    }
   ],
   "source": [
    "C_SCORE=[]\n",
    "c=np.arange(10,110,10)\n",
    "for c_value in c:\n",
    "    clf=SVC(C=c_value)\n",
    "    clf.fit(X_traint,y_traint)\n",
    "    sc=clf.score(X_train_val,y_train_val)\n",
    "    C_SCORE.append(sc)\n",
    "    print(str(c_value) + ' coefficient has been adopted' )"
   ]
  },
  {
   "cell_type": "code",
   "execution_count": 460,
   "metadata": {
    "collapsed": true
   },
   "outputs": [
    {
     "name": "stdout",
     "output_type": "stream",
     "text": [
      "In the range 10 and 100\n",
      "\n",
      "the best score has been obtained with 70\n",
      "and it is 0.6231637732184048\n"
     ]
    }
   ],
   "source": [
    "MIN_VAL=np.array(C_SCORE).max()\n",
    "MIN_C=c[np.array(C_SCORE).argmax()]\n",
    "print ('In the range ' + str(c.min())+ ' and ' +str(c.max())+ '\\n')\n",
    "print ('the best score has been obtained with ' + str(MIN_C))\n",
    "print ('and it is ' + str(MIN_VAL))"
   ]
  },
  {
   "cell_type": "code",
   "execution_count": 461,
   "metadata": {
    "collapsed": true
   },
   "outputs": [],
   "source": [
    "OPT_C=[0.2,1,70]"
   ]
  },
  {
   "cell_type": "code",
   "execution_count": 462,
   "metadata": {
    "collapsed": true
   },
   "outputs": [],
   "source": [
    "FIN_SCORE=[]\n",
    "for opt_C in OPT_C:\n",
    "    clf=SVC(C=opt_c)\n",
    "    clf.fit(X_train,y_train)\n",
    "    fin_score=clf.score(X_test,y_test)\n",
    "    FIN_SCORE.append(fin_score)"
   ]
  },
  {
   "cell_type": "code",
   "execution_count": 463,
   "metadata": {
    "collapsed": true
   },
   "outputs": [],
   "source": [
    "FIN_SCORE=np.array(FIN_SCORE)"
   ]
  },
  {
   "cell_type": "code",
   "execution_count": 464,
   "metadata": {
    "collapsed": true
   },
   "outputs": [],
   "source": [
    "fin_score=FIN_SCORE.max()"
   ]
  },
  {
   "cell_type": "code",
   "execution_count": 465,
   "metadata": {},
   "outputs": [
    {
     "name": "stdout",
     "output_type": "stream",
     "text": [
      "The PCA dataset gave a best classification with 63.238150738150736% of accuracy with a linear classifier\n"
     ]
    }
   ],
   "source": [
    "print ('The PCA dataset gave a best classification with ' + str(fin_score*100)+ '% of accuracy with a linear classifier')"
   ]
  }
 ],
 "metadata": {
  "kernelspec": {
   "display_name": "Python 3",
   "language": "python",
   "name": "python3"
  },
  "language_info": {
   "codemirror_mode": {
    "name": "ipython",
    "version": 3
   },
   "file_extension": ".py",
   "mimetype": "text/x-python",
   "name": "python",
   "nbconvert_exporter": "python",
   "pygments_lexer": "ipython3",
   "version": "3.8.3"
  }
 },
 "nbformat": 4,
 "nbformat_minor": 4
}
