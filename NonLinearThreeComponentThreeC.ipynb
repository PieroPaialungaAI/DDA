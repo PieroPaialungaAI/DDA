{
 "cells": [
  {
   "cell_type": "markdown",
   "metadata": {},
   "source": [
    "# 4 Dataset Classification"
   ]
  },
  {
   "cell_type": "code",
   "execution_count": 3,
   "metadata": {
    "collapsed": true,
    "scrolled": true
   },
   "outputs": [],
   "source": [
    "#Importing the libraries to watch the 'fits' image and get the data array\n",
    "import astropy\n",
    "#import plotly.graph_objects as go\n",
    "from astropy.io import fits\n",
    "#Importing a library that is useful to read the original file\n",
    "import pandas as pd\n",
    "import pylab as plb\n",
    "import matplotlib.pyplot as plt\n",
    "from scipy.optimize import curve_fit\n",
    "from scipy import asarray as ar,exp\n",
    "#Importing a visual library with some illustrative set up\n",
    "import matplotlib.pyplot as plt\n",
    "import matplotlib.colors as mcolors \n",
    "from matplotlib import cm\n",
    "import numpy as np\n",
    "from sklearn.utils.testing import ignore_warnings\n",
    "from sklearn.exceptions import ConvergenceWarning\n",
    "from sklearn.decomposition import PCA\n",
    "import math \n",
    "import seaborn as sns\n",
    "from sklearn.linear_model import LogisticRegression\n",
    "plt.style.use('fivethirtyeight')\n",
    "plt.rcParams['font.family'] = 'sans-serif' \n",
    "plt.rcParams['font.serif'] = 'Ubuntu' \n",
    "plt.rcParams['font.monospace'] = 'Ubuntu Mono' \n",
    "plt.rcParams['font.size'] = 14 \n",
    "plt.rcParams['axes.labelsize'] = 12 \n",
    "plt.rcParams['axes.labelweight'] = 'bold' \n",
    "plt.rcParams['axes.titlesize'] = 12 \n",
    "plt.rcParams['xtick.labelsize'] = 12 \n",
    "plt.rcParams['ytick.labelsize'] = 12 \n",
    "#plt.rcParams['legend.fontsize'] = 12 \n",
    "plt.rcParams['figure.titlesize'] = 12 \n",
    "plt.rcParams['image.cmap'] = 'jet' \n",
    "plt.rcParams['image.interpolation'] = 'none' \n",
    "plt.rcParams['figure.figsize'] = (16, 8) \n",
    "plt.rcParams['lines.linewidth'] = 2 \n",
    "plt.rcParams['lines.markersize'] = 8\n",
    "plt.rcParams[\"axes.grid\"] = False\n",
    "\n"
   ]
  },
  {
   "cell_type": "code",
   "execution_count": 4,
   "metadata": {
    "collapsed": true,
    "scrolled": true
   },
   "outputs": [],
   "source": [
    "#Importing the dataset\n",
    "data=pd.read_csv('star.txt',sep='\\s+')"
   ]
  },
  {
   "cell_type": "code",
   "execution_count": 6,
   "metadata": {
    "scrolled": true
   },
   "outputs": [
    {
     "data": {
      "text/html": [
       "<div>\n",
       "<style scoped>\n",
       "    .dataframe tbody tr th:only-of-type {\n",
       "        vertical-align: middle;\n",
       "    }\n",
       "\n",
       "    .dataframe tbody tr th {\n",
       "        vertical-align: top;\n",
       "    }\n",
       "\n",
       "    .dataframe thead th {\n",
       "        text-align: right;\n",
       "    }\n",
       "</style>\n",
       "<table border=\"1\" class=\"dataframe\">\n",
       "  <thead>\n",
       "    <tr style=\"text-align: right;\">\n",
       "      <th></th>\n",
       "      <th>#ID</th>\n",
       "      <th>X</th>\n",
       "      <th>Y</th>\n",
       "      <th>F606W</th>\n",
       "      <th>error</th>\n",
       "      <th>F814W</th>\n",
       "      <th>error.1</th>\n",
       "      <th>Chi</th>\n",
       "      <th>Sharp</th>\n",
       "    </tr>\n",
       "  </thead>\n",
       "  <tbody>\n",
       "    <tr>\n",
       "      <th>0</th>\n",
       "      <td>8</td>\n",
       "      <td>4462.947</td>\n",
       "      <td>140.859</td>\n",
       "      <td>28.197</td>\n",
       "      <td>0.1036</td>\n",
       "      <td>27.127</td>\n",
       "      <td>0.1068</td>\n",
       "      <td>6.106</td>\n",
       "      <td>0.7310</td>\n",
       "    </tr>\n",
       "    <tr>\n",
       "      <th>1</th>\n",
       "      <td>120</td>\n",
       "      <td>5002.486</td>\n",
       "      <td>186.138</td>\n",
       "      <td>20.843</td>\n",
       "      <td>0.0552</td>\n",
       "      <td>19.815</td>\n",
       "      <td>0.0661</td>\n",
       "      <td>10.690</td>\n",
       "      <td>0.4000</td>\n",
       "    </tr>\n",
       "    <tr>\n",
       "      <th>2</th>\n",
       "      <td>165</td>\n",
       "      <td>5003.574</td>\n",
       "      <td>195.421</td>\n",
       "      <td>27.014</td>\n",
       "      <td>0.2194</td>\n",
       "      <td>26.068</td>\n",
       "      <td>0.1349</td>\n",
       "      <td>10.651</td>\n",
       "      <td>0.1940</td>\n",
       "    </tr>\n",
       "    <tr>\n",
       "      <th>3</th>\n",
       "      <td>226</td>\n",
       "      <td>4448.493</td>\n",
       "      <td>207.417</td>\n",
       "      <td>30.193</td>\n",
       "      <td>0.3641</td>\n",
       "      <td>28.270</td>\n",
       "      <td>0.1636</td>\n",
       "      <td>4.059</td>\n",
       "      <td>-1.9585</td>\n",
       "    </tr>\n",
       "    <tr>\n",
       "      <th>4</th>\n",
       "      <td>351</td>\n",
       "      <td>5040.717</td>\n",
       "      <td>224.366</td>\n",
       "      <td>28.935</td>\n",
       "      <td>0.1669</td>\n",
       "      <td>28.941</td>\n",
       "      <td>0.2464</td>\n",
       "      <td>4.274</td>\n",
       "      <td>-0.7720</td>\n",
       "    </tr>\n",
       "  </tbody>\n",
       "</table>\n",
       "</div>"
      ],
      "text/plain": [
       "   #ID         X        Y   F606W   error   F814W  error.1     Chi   Sharp\n",
       "0    8  4462.947  140.859  28.197  0.1036  27.127   0.1068   6.106  0.7310\n",
       "1  120  5002.486  186.138  20.843  0.0552  19.815   0.0661  10.690  0.4000\n",
       "2  165  5003.574  195.421  27.014  0.2194  26.068   0.1349  10.651  0.1940\n",
       "3  226  4448.493  207.417  30.193  0.3641  28.270   0.1636   4.059 -1.9585\n",
       "4  351  5040.717  224.366  28.935  0.1669  28.941   0.2464   4.274 -0.7720"
      ]
     },
     "execution_count": 6,
     "metadata": {},
     "output_type": "execute_result"
    }
   ],
   "source": [
    "data.head()"
   ]
  },
  {
   "cell_type": "code",
   "execution_count": 7,
   "metadata": {
    "collapsed": true,
    "scrolled": true
   },
   "outputs": [],
   "source": [
    "#Excluding the target and the #ID \n",
    "notar=data.drop(columns=['Sharp','#ID'])"
   ]
  },
  {
   "cell_type": "markdown",
   "metadata": {},
   "source": [
    "# P.C.A. Excluding Space"
   ]
  },
  {
   "cell_type": "code",
   "execution_count": 6,
   "metadata": {
    "collapsed": true,
    "scrolled": true
   },
   "outputs": [],
   "source": [
    "#Excluding the target, the #ID and the spatial coordinates in order to apply the P.C.A.\n",
    "notar=data.drop(columns=['Sharp','#ID','X','Y'])"
   ]
  },
  {
   "cell_type": "code",
   "execution_count": 9,
   "metadata": {
    "scrolled": true
   },
   "outputs": [
    {
     "data": {
      "text/html": [
       "<div>\n",
       "<style scoped>\n",
       "    .dataframe tbody tr th:only-of-type {\n",
       "        vertical-align: middle;\n",
       "    }\n",
       "\n",
       "    .dataframe tbody tr th {\n",
       "        vertical-align: top;\n",
       "    }\n",
       "\n",
       "    .dataframe thead th {\n",
       "        text-align: right;\n",
       "    }\n",
       "</style>\n",
       "<table border=\"1\" class=\"dataframe\">\n",
       "  <thead>\n",
       "    <tr style=\"text-align: right;\">\n",
       "      <th></th>\n",
       "      <th>F606W</th>\n",
       "      <th>error</th>\n",
       "      <th>F814W</th>\n",
       "      <th>error.1</th>\n",
       "      <th>Chi</th>\n",
       "    </tr>\n",
       "  </thead>\n",
       "  <tbody>\n",
       "    <tr>\n",
       "      <th>0</th>\n",
       "      <td>28.197</td>\n",
       "      <td>0.1036</td>\n",
       "      <td>27.127</td>\n",
       "      <td>0.1068</td>\n",
       "      <td>6.106</td>\n",
       "    </tr>\n",
       "    <tr>\n",
       "      <th>1</th>\n",
       "      <td>20.843</td>\n",
       "      <td>0.0552</td>\n",
       "      <td>19.815</td>\n",
       "      <td>0.0661</td>\n",
       "      <td>10.690</td>\n",
       "    </tr>\n",
       "    <tr>\n",
       "      <th>2</th>\n",
       "      <td>27.014</td>\n",
       "      <td>0.2194</td>\n",
       "      <td>26.068</td>\n",
       "      <td>0.1349</td>\n",
       "      <td>10.651</td>\n",
       "    </tr>\n",
       "    <tr>\n",
       "      <th>3</th>\n",
       "      <td>30.193</td>\n",
       "      <td>0.3641</td>\n",
       "      <td>28.270</td>\n",
       "      <td>0.1636</td>\n",
       "      <td>4.059</td>\n",
       "    </tr>\n",
       "    <tr>\n",
       "      <th>4</th>\n",
       "      <td>28.935</td>\n",
       "      <td>0.1669</td>\n",
       "      <td>28.941</td>\n",
       "      <td>0.2464</td>\n",
       "      <td>4.274</td>\n",
       "    </tr>\n",
       "  </tbody>\n",
       "</table>\n",
       "</div>"
      ],
      "text/plain": [
       "    F606W   error   F814W  error.1     Chi\n",
       "0  28.197  0.1036  27.127   0.1068   6.106\n",
       "1  20.843  0.0552  19.815   0.0661  10.690\n",
       "2  27.014  0.2194  26.068   0.1349  10.651\n",
       "3  30.193  0.3641  28.270   0.1636   4.059\n",
       "4  28.935  0.1669  28.941   0.2464   4.274"
      ]
     },
     "execution_count": 9,
     "metadata": {},
     "output_type": "execute_result"
    }
   ],
   "source": [
    "notar.head()"
   ]
  },
  {
   "cell_type": "code",
   "execution_count": 7,
   "metadata": {
    "collapsed": true,
    "scrolled": true
   },
   "outputs": [],
   "source": [
    "pca=PCA(n_components=3)\n",
    "pca=pca.fit(notar)\n",
    "pca_data=pd.DataFrame(pca.transform(notar))"
   ]
  },
  {
   "cell_type": "code",
   "execution_count": 8,
   "metadata": {
    "collapsed": true,
    "scrolled": true
   },
   "outputs": [],
   "source": [
    "pca_data=pca_data.rename(columns={0:'FirstComponent',1:'SecondComponent',2:'ThirdComponent'})"
   ]
  },
  {
   "cell_type": "code",
   "execution_count": 57,
   "metadata": {
    "collapsed": true,
    "scrolled": true
   },
   "outputs": [],
   "source": [
    "#Stacking the X and Y coordinates \n",
    "pca_data['X']=data.X\n",
    "pca_data['Y']=data.Y"
   ]
  },
  {
   "cell_type": "code",
   "execution_count": 58,
   "metadata": {
    "collapsed": true,
    "scrolled": true
   },
   "outputs": [],
   "source": [
    "#And the Sharp\n",
    "pca_data['Sharp']=data.Sharp"
   ]
  },
  {
   "cell_type": "code",
   "execution_count": 59,
   "metadata": {
    "scrolled": true
   },
   "outputs": [
    {
     "data": {
      "text/html": [
       "<div>\n",
       "<style scoped>\n",
       "    .dataframe tbody tr th:only-of-type {\n",
       "        vertical-align: middle;\n",
       "    }\n",
       "\n",
       "    .dataframe tbody tr th {\n",
       "        vertical-align: top;\n",
       "    }\n",
       "\n",
       "    .dataframe thead th {\n",
       "        text-align: right;\n",
       "    }\n",
       "</style>\n",
       "<table border=\"1\" class=\"dataframe\">\n",
       "  <thead>\n",
       "    <tr style=\"text-align: right;\">\n",
       "      <th></th>\n",
       "      <th>FirstComponent</th>\n",
       "      <th>SecondComponent</th>\n",
       "      <th>ThirdComponent</th>\n",
       "      <th>X</th>\n",
       "      <th>Y</th>\n",
       "      <th>Sharp</th>\n",
       "    </tr>\n",
       "  </thead>\n",
       "  <tbody>\n",
       "    <tr>\n",
       "      <th>0</th>\n",
       "      <td>-3.348246</td>\n",
       "      <td>3.558359</td>\n",
       "      <td>0.052565</td>\n",
       "      <td>4462.947</td>\n",
       "      <td>140.859</td>\n",
       "      <td>0.7310</td>\n",
       "    </tr>\n",
       "    <tr>\n",
       "      <th>1</th>\n",
       "      <td>6.885136</td>\n",
       "      <td>8.439184</td>\n",
       "      <td>0.189286</td>\n",
       "      <td>5002.486</td>\n",
       "      <td>186.138</td>\n",
       "      <td>0.4000</td>\n",
       "    </tr>\n",
       "    <tr>\n",
       "      <th>2</th>\n",
       "      <td>-1.896787</td>\n",
       "      <td>8.148357</td>\n",
       "      <td>0.145220</td>\n",
       "      <td>5003.574</td>\n",
       "      <td>195.421</td>\n",
       "      <td>0.1940</td>\n",
       "    </tr>\n",
       "    <tr>\n",
       "      <th>3</th>\n",
       "      <td>-5.504066</td>\n",
       "      <td>1.449171</td>\n",
       "      <td>-0.564914</td>\n",
       "      <td>4448.493</td>\n",
       "      <td>207.417</td>\n",
       "      <td>-1.9585</td>\n",
       "    </tr>\n",
       "    <tr>\n",
       "      <th>4</th>\n",
       "      <td>-5.110070</td>\n",
       "      <td>1.678896</td>\n",
       "      <td>0.804773</td>\n",
       "      <td>5040.717</td>\n",
       "      <td>224.366</td>\n",
       "      <td>-0.7720</td>\n",
       "    </tr>\n",
       "  </tbody>\n",
       "</table>\n",
       "</div>"
      ],
      "text/plain": [
       "   FirstComponent  SecondComponent  ThirdComponent         X        Y   Sharp\n",
       "0       -3.348246         3.558359        0.052565  4462.947  140.859  0.7310\n",
       "1        6.885136         8.439184        0.189286  5002.486  186.138  0.4000\n",
       "2       -1.896787         8.148357        0.145220  5003.574  195.421  0.1940\n",
       "3       -5.504066         1.449171       -0.564914  4448.493  207.417 -1.9585\n",
       "4       -5.110070         1.678896        0.804773  5040.717  224.366 -0.7720"
      ]
     },
     "execution_count": 59,
     "metadata": {},
     "output_type": "execute_result"
    }
   ],
   "source": [
    "pca_data.head()"
   ]
  },
  {
   "cell_type": "code",
   "execution_count": 60,
   "metadata": {
    "collapsed": true,
    "scrolled": true
   },
   "outputs": [],
   "source": [
    "#pca_data=pca_data.drop(columns=['Sharp'])"
   ]
  },
  {
   "cell_type": "markdown",
   "metadata": {},
   "source": [
    "# Best method 3 feature 3 classes"
   ]
  },
  {
   "cell_type": "code",
   "execution_count": 12,
   "metadata": {
    "collapsed": true,
    "scrolled": true
   },
   "outputs": [],
   "source": [
    "#Considering three feature from the P.C.A. and three classes classification\n",
    "opt_data=pca_data[['FirstComponent','SecondComponent','ThirdComponent']]\n",
    "data['SharpSign']=data.Sharp.apply(np.sign)\n",
    "opt_data['Target']=data['SharpSign']"
   ]
  },
  {
   "cell_type": "code",
   "execution_count": 183,
   "metadata": {
    "collapsed": true,
    "scrolled": true
   },
   "outputs": [],
   "source": [
    "#Target and data\n",
    "X=opt_data.drop(columns=['Target'])\n",
    "y=opt_data.Target"
   ]
  },
  {
   "cell_type": "code",
   "execution_count": 184,
   "metadata": {
    "collapsed": true,
    "scrolled": true
   },
   "outputs": [],
   "source": [
    "#Importing SVM and Model selection for train test split \n",
    "from sklearn.svm import SVC\n",
    "from sklearn.model_selection import train_test_split"
   ]
  },
  {
   "cell_type": "code",
   "execution_count": 185,
   "metadata": {
    "collapsed": true,
    "scrolled": true
   },
   "outputs": [],
   "source": [
    "#(Train+Validation)-Test with wide test set (90% of the data)\n",
    "X_train, X_test, y_train, y_test = train_test_split(\n",
    "    X, y, test_size=0.9, random_state=42)"
   ]
  },
  {
   "cell_type": "code",
   "execution_count": 186,
   "metadata": {
    "collapsed": true,
    "scrolled": true
   },
   "outputs": [],
   "source": [
    "#Train Validation split with 50% of values\n",
    "X_train, X_val, y_train, y_val = train_test_split(\n",
    "    X_train, y_train, test_size=0.5, random_state=42)"
   ]
  },
  {
   "cell_type": "code",
   "execution_count": 187,
   "metadata": {
    "collapsed": true,
    "scrolled": true
   },
   "outputs": [],
   "source": [
    "#Computing the best kernel on the validation, training on the training set \n",
    "K_LIST=['linear', 'poly', 'rbf', 'sigmoid']"
   ]
  },
  {
   "cell_type": "code",
   "execution_count": 188,
   "metadata": {
    "collapsed": true,
    "scrolled": true
   },
   "outputs": [
    {
     "name": "stdout",
     "output_type": "stream",
     "text": [
      "linear Kernel has been explored\n",
      "poly Kernel has been explored\n",
      "rbf Kernel has been explored\n",
      "sigmoid Kernel has been explored\n",
      "Cross validation 0 out of 4 \n",
      "\n",
      "linear Kernel has been explored\n",
      "poly Kernel has been explored\n",
      "rbf Kernel has been explored\n",
      "sigmoid Kernel has been explored\n",
      "Cross validation 1 out of 4 \n",
      "\n",
      "linear Kernel has been explored\n",
      "poly Kernel has been explored\n",
      "rbf Kernel has been explored\n",
      "sigmoid Kernel has been explored\n",
      "Cross validation 2 out of 4 \n",
      "\n",
      "linear Kernel has been explored\n",
      "poly Kernel has been explored\n",
      "rbf Kernel has been explored\n",
      "sigmoid Kernel has been explored\n",
      "Cross validation 3 out of 4 \n",
      "\n",
      "linear Kernel has been explored\n",
      "poly Kernel has been explored\n",
      "rbf Kernel has been explored\n",
      "sigmoid Kernel has been explored\n",
      "Cross validation 4 out of 4 \n",
      "\n"
     ]
    }
   ],
   "source": [
    "#Training and test validation varies 5 times in order to pick the best one \n",
    "BEST_KERNEL=[]\n",
    "k=0\n",
    "for i in range(5):\n",
    "    FIN_SCORE=[]\n",
    "    X_train, X_test, y_train, y_test = train_test_split(\n",
    "        X, y, test_size=0.9, random_state=42)\n",
    "    X_train, X_val, y_train, y_val = train_test_split(\n",
    "        X_train, y_train, test_size=0.5, random_state=42)\n",
    "    k=0\n",
    "    for ker in K_LIST:\n",
    "        clf=SVC(kernel=ker)\n",
    "        clf.fit(X_train,y_train)\n",
    "        fin_score=clf.score(X_val,y_val)\n",
    "        FIN_SCORE.append(fin_score)\n",
    "        k=k+1\n",
    "        print(ker + ' Kernel has been explored')\n",
    "    FIN_SCORE=np.array(FIN_SCORE)\n",
    "    \n",
    "    BEST_KERNEL.append(K_LIST[FIN_SCORE.argmax()])\n",
    "    print('Cross validation ' + str(i) + ' out of 4 \\n')"
   ]
  },
  {
   "cell_type": "code",
   "execution_count": 190,
   "metadata": {
    "collapsed": true,
    "scrolled": true
   },
   "outputs": [],
   "source": [
    "CV_DATA=pd.DataFrame({'CV Number':np.arange(1,6,1),'Choosen Kernel': BEST_KERNEL})"
   ]
  },
  {
   "cell_type": "code",
   "execution_count": 191,
   "metadata": {
    "collapsed": true,
    "scrolled": true
   },
   "outputs": [
    {
     "data": {
      "text/plain": [
       "<matplotlib.axes._subplots.AxesSubplot at 0x7fa7d378b070>"
      ]
     },
     "execution_count": 191,
     "metadata": {},
     "output_type": "execute_result"
    },
    {
     "data": {
      "image/png": "[encoded data removed]",
      "text/plain": [
       "<Figure size 1152x576 with 1 Axes>"
      ]
     },
     "metadata": {},
     "output_type": "display_data"
    }
   ],
   "source": [
    "sns.countplot(CV_DATA['Choosen Kernel'])"
   ]
  },
  {
   "cell_type": "code",
   "execution_count": 192,
   "metadata": {
    "collapsed": true,
    "scrolled": true
   },
   "outputs": [],
   "source": [
    "best_kernel='rbf'"
   ]
  },
  {
   "cell_type": "code",
   "execution_count": 194,
   "metadata": {
    "collapsed": true,
    "scrolled": true
   },
   "outputs": [
    {
     "name": "stdout",
     "output_type": "stream",
     "text": [
      "20% of the C values has been explored\n",
      "40% of the C values has been explored\n",
      "60% of the C values has been explored\n",
      "80% of the C values has been explored\n",
      "100% of the C values has been explored\n",
      "Cross validation 0 out of 4 \n",
      "\n",
      "20% of the C values has been explored\n",
      "40% of the C values has been explored\n",
      "60% of the C values has been explored\n",
      "80% of the C values has been explored\n",
      "100% of the C values has been explored\n",
      "Cross validation 1 out of 4 \n",
      "\n",
      "20% of the C values has been explored\n",
      "40% of the C values has been explored\n",
      "60% of the C values has been explored\n",
      "80% of the C values has been explored\n",
      "100% of the C values has been explored\n",
      "Cross validation 2 out of 4 \n",
      "\n",
      "20% of the C values has been explored\n",
      "40% of the C values has been explored\n",
      "60% of the C values has been explored\n",
      "80% of the C values has been explored\n",
      "100% of the C values has been explored\n",
      "Cross validation 3 out of 4 \n",
      "\n",
      "20% of the C values has been explored\n",
      "40% of the C values has been explored\n",
      "60% of the C values has been explored\n",
      "80% of the C values has been explored\n",
      "100% of the C values has been explored\n",
      "Cross validation 4 out of 4 \n",
      "\n"
     ]
    }
   ],
   "source": [
    "#The same form of validation is made for the C value \n",
    "c_list=np.arange(0.5,50.5,0.5)\n",
    "k=0\n",
    "PERC=['20%','40%','60%','80%','100%']\n",
    "K=[20,40,60,80,100]\n",
    "BEST_C=[]\n",
    "for i in range(5):\n",
    "    FIN_SCORE=[]\n",
    "    X_train, X_test, y_train, y_test = train_test_split(\n",
    "        X, y, test_size=0.9, random_state=42)\n",
    "    X_train, X_val, y_train, y_val = train_test_split(\n",
    "        X_train, y_train, test_size=0.5, random_state=42)\n",
    "    k=0\n",
    "    for c in c_list:\n",
    "        k=k+1\n",
    "        clf=SVC(C=c,kernel=best_kernel)\n",
    "        clf.fit(X_train,y_train)\n",
    "        fin_score=clf.score(X_val,y_val)\n",
    "        FIN_SCORE.append(fin_score)\n",
    "        #k=k+1\n",
    "        if k in K:\n",
    "            ind=K.index(k)\n",
    "            print (PERC[ind] + ' of the C values has been explored')\n",
    "    FIN_SCORE=np.array(FIN_SCORE)\n",
    "    BEST_C.append(c_list[FIN_SCORE.argmax()])\n",
    "    print('Cross validation ' + str(i) + ' out of 4 \\n')"
   ]
  },
  {
   "cell_type": "code",
   "execution_count": 195,
   "metadata": {
    "scrolled": true
   },
   "outputs": [
    {
     "data": {
      "text/plain": [
       "Text(0, 0.5, 'Count')"
      ]
     },
     "execution_count": 195,
     "metadata": {},
     "output_type": "execute_result"
    },
    {
     "data": {
      "image/png": "[encoded data removed]",
      "text/plain": [
       "<Figure size 1152x576 with 1 Axes>"
      ]
     },
     "metadata": {},
     "output_type": "display_data"
    }
   ],
   "source": [
    "sns.countplot(BEST_C)\n",
    "plt.xlabel('Chosen C')\n",
    "plt.ylabel('Count')"
   ]
  },
  {
   "cell_type": "code",
   "execution_count": 196,
   "metadata": {
    "collapsed": true,
    "scrolled": true
   },
   "outputs": [],
   "source": [
    "FIN_SCORE=np.array(FIN_SCORE)"
   ]
  },
  {
   "cell_type": "code",
   "execution_count": 197,
   "metadata": {
    "collapsed": true,
    "scrolled": true
   },
   "outputs": [],
   "source": [
    "best_c=c_list[FIN_SCORE.argmax()]"
   ]
  },
  {
   "cell_type": "code",
   "execution_count": 14,
   "metadata": {
    "collapsed": true,
    "scrolled": true
   },
   "outputs": [],
   "source": [
    "best_c=17\n",
    "best_kernel='rbf'"
   ]
  },
  {
   "cell_type": "code",
   "execution_count": 199,
   "metadata": {
    "collapsed": true,
    "scrolled": true
   },
   "outputs": [],
   "source": [
    "#Train-test split at 70% has been made, and the performance are computed \n",
    "X_train, X_test, y_train, y_test = train_test_split(\n",
    "    X, y, test_size=0.7, random_state=42)"
   ]
  },
  {
   "cell_type": "code",
   "execution_count": 200,
   "metadata": {
    "collapsed": true,
    "scrolled": true
   },
   "outputs": [],
   "source": [
    "#Computing the score \n",
    "clf=SVC(kernel=best_kernel,C=best_c)\n",
    "clf.fit(X_train,y_train)\n",
    "fin_score=clf.score(X_test,y_test)"
   ]
  },
  {
   "cell_type": "code",
   "execution_count": 203,
   "metadata": {
    "collapsed": true,
    "scrolled": true
   },
   "outputs": [],
   "source": [
    "#The prediction\n",
    "prediction=clf.predict(X_test)"
   ]
  },
  {
   "cell_type": "code",
   "execution_count": 204,
   "metadata": {
    "scrolled": true
   },
   "outputs": [
    {
     "name": "stdout",
     "output_type": "stream",
     "text": [
      "The final score with 3 feature is 71.57564657564657% \n"
     ]
    }
   ],
   "source": [
    "print('The final score with 3 feature is ' + str(fin_score*100) +'% ')"
   ]
  },
  {
   "cell_type": "code",
   "execution_count": 205,
   "metadata": {
    "collapsed": true,
    "scrolled": true
   },
   "outputs": [],
   "source": [
    "test_data=X_test.copy()\n",
    "test_data['Target']=y_test\n",
    "test_data['Prediction']=prediction"
   ]
  },
  {
   "cell_type": "code",
   "execution_count": 214,
   "metadata": {
    "collapsed": true,
    "scrolled": true
   },
   "outputs": [
    {
     "data": {
      "image/png": "[encoded data removed]",
      "text/plain": [
       "<Figure size 1152x576 with 2 Axes>"
      ]
     },
     "metadata": {},
     "output_type": "display_data"
    }
   ],
   "source": [
    "#And the confusion matrix\n",
    "import itertools\n",
    "from string import ascii_uppercase\n",
    "from sklearn.metrics import confusion_matrix\n",
    "\n",
    "y_test=test_data.Target\n",
    "predic = prediction\n",
    "\n",
    "columns = ['Negative','Zero','Positive']\n",
    "\n",
    "confm = confusion_matrix(y_test, predic)\n",
    "df_cm = pd.DataFrame(confm.astype(float), index=columns, columns=columns)\n",
    "\n",
    "ax = sns.heatmap(df_cm, cmap='plasma',annot=True,fmt='g')"
   ]
  },
  {
   "cell_type": "code",
   "execution_count": 227,
   "metadata": {
    "collapsed": true,
    "scrolled": true
   },
   "outputs": [],
   "source": [
    "#Defining precision and recall on three classes classification \n",
    "def precision(confusion,clas):\n",
    "    if clas=='Negative':\n",
    "        TP=confusion[0][0]\n",
    "        FN=confusion[1][0]+confusion[2][0]\n",
    "        pres=TP/(TP+FN)\n",
    "    if clas=='Positive':\n",
    "        TP=confusion[2][2]\n",
    "        FN=confusion[2][0]+confusion[2][1]\n",
    "        pres=TP/(TP+FN)\n",
    "    if clas=='Zero':\n",
    "        TP=confusion[1][1]\n",
    "        FN=confusion[1][0]+confusion[1][2]\n",
    "        pres=TP/(TP+FN)\n",
    "    return pres"
   ]
  },
  {
   "cell_type": "code",
   "execution_count": 235,
   "metadata": {
    "collapsed": true,
    "scrolled": true
   },
   "outputs": [],
   "source": [
    "def recal(confusion,clas):\n",
    "    if clas=='Negative':\n",
    "        TP=confusion[0][0]\n",
    "        FP=confusion[0][1]+confusion[0][2]\n",
    "        rec=TP/(TP+FP)\n",
    "    if clas=='Positive':\n",
    "        TP=confusion[2][2]\n",
    "        FP=confusion[0][2]+confusion[1][2]\n",
    "        rec=TP/(TP+FP)\n",
    "    if clas=='Zero':\n",
    "        TP=confusion[1][1]\n",
    "        FP=confusion[0][1]+confusion[2][1]\n",
    "        rec=TP/(TP+FP)\n",
    "    return rec"
   ]
  },
  {
   "cell_type": "code",
   "execution_count": 236,
   "metadata": {
    "scrolled": true
   },
   "outputs": [
    {
     "data": {
      "text/plain": [
       "(0.7691137840453477, 0.9174284429791698, 0.9658031088082901)"
      ]
     },
     "execution_count": 236,
     "metadata": {},
     "output_type": "execute_result"
    }
   ],
   "source": [
    "precision(confm,'Negative'),precision(confm,'Positive'),precision(confm,'Zero')"
   ]
  },
  {
   "cell_type": "code",
   "execution_count": 237,
   "metadata": {
    "scrolled": true
   },
   "outputs": [
    {
     "data": {
      "text/plain": [
       "(0.3949031021509193, 0.6817625004640113, 1.0)"
      ]
     },
     "execution_count": 237,
     "metadata": {},
     "output_type": "execute_result"
    }
   ],
   "source": [
    "recal(confm,'Negative'),recal(confm,'Positive'),recal(confm,'Zero')"
   ]
  },
  {
   "cell_type": "code",
   "execution_count": 238,
   "metadata": {
    "collapsed": true,
    "scrolled": true
   },
   "outputs": [],
   "source": [
    "#Summary of the Precision and Recall for each classes function\n",
    "def statistics(confusion):\n",
    "    neg=[precision(confm,'Negative'),recal(confm,'Negative')]\n",
    "    pos=[precision(confm,'Positive'),recal(confm,'Positive')]\n",
    "    zero=[precision(confm,'Zero'),recal(confm,'Zero')]\n",
    "    stats=pd.DataFrame({'Negative':neg,'Positive':pos,'Zero':zero})\n",
    "    stats.index=['Precision','Recall']\n",
    "    return stats"
   ]
  },
  {
   "cell_type": "code",
   "execution_count": 239,
   "metadata": {
    "scrolled": true
   },
   "outputs": [
    {
     "data": {
      "text/html": [
       "<div>\n",
       "<style scoped>\n",
       "    .dataframe tbody tr th:only-of-type {\n",
       "        vertical-align: middle;\n",
       "    }\n",
       "\n",
       "    .dataframe tbody tr th {\n",
       "        vertical-align: top;\n",
       "    }\n",
       "\n",
       "    .dataframe thead th {\n",
       "        text-align: right;\n",
       "    }\n",
       "</style>\n",
       "<table border=\"1\" class=\"dataframe\">\n",
       "  <thead>\n",
       "    <tr style=\"text-align: right;\">\n",
       "      <th></th>\n",
       "      <th>Negative</th>\n",
       "      <th>Positive</th>\n",
       "      <th>Zero</th>\n",
       "    </tr>\n",
       "  </thead>\n",
       "  <tbody>\n",
       "    <tr>\n",
       "      <th>Precision</th>\n",
       "      <td>0.769114</td>\n",
       "      <td>0.917428</td>\n",
       "      <td>0.965803</td>\n",
       "    </tr>\n",
       "    <tr>\n",
       "      <th>Recall</th>\n",
       "      <td>0.394903</td>\n",
       "      <td>0.681763</td>\n",
       "      <td>1.000000</td>\n",
       "    </tr>\n",
       "  </tbody>\n",
       "</table>\n",
       "</div>"
      ],
      "text/plain": [
       "           Negative  Positive      Zero\n",
       "Precision  0.769114  0.917428  0.965803\n",
       "Recall     0.394903  0.681763  1.000000"
      ]
     },
     "execution_count": 239,
     "metadata": {},
     "output_type": "execute_result"
    }
   ],
   "source": [
    "statistics(confm)"
   ]
  }
 ],
 "metadata": {
  "kernelspec": {
   "display_name": "Python 3",
   "language": "python",
   "name": "python3"
  },
  "language_info": {
   "codemirror_mode": {
    "name": "ipython",
    "version": 3
   },
   "file_extension": ".py",
   "mimetype": "text/x-python",
   "name": "python",
   "nbconvert_exporter": "python",
   "pygments_lexer": "ipython3",
   "version": "3.8.3"
  }
 },
 "nbformat": 4,
 "nbformat_minor": 4
}
